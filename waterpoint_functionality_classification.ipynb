{
 "cells": [
  {
   "cell_type": "markdown",
   "metadata": {},
   "source": [
    "# Tanzanian Water Well Classification Analysis\n",
    "\n",
    "#### By Jonny Hofmeister\n",
    "\n",
    "This data comes from Taarifa, an open source platform that tracks infrastucture related issues and data, who has sourced this data from the Tanzanian Ministry of Water. It is posted on the [DRIVENDATA](https://www.drivendata.org/competitions/7/pump-it-up-data-mining-the-water-table/page/23/) site as a classification data science contest.\n",
    "\n",
    "###### This project will utilize the CRISP-DM process."
   ]
  },
  {
   "cell_type": "code",
   "execution_count": 1,
   "metadata": {},
   "outputs": [],
   "source": [
    "import numpy as np\n",
    "import pandas as pd\n",
    "import matplotlib.pyplot as plt\n",
    "import seaborn as sn"
   ]
  },
  {
   "cell_type": "code",
   "execution_count": 2,
   "metadata": {},
   "outputs": [],
   "source": [
    "from sklearn.pipeline import Pipeline\n",
    "\n",
    "from sklearn.model_selection import train_test_split, GridSearchCV\n",
    "from sklearn.preprocessing import OneHotEncoder, MinMaxScaler\n",
    "from sklearn.impute import SimpleImputer\n",
    "from sklearn.compose import ColumnTransformer\n",
    "\n",
    "from category_encoders import CountEncoder\n",
    "\n",
    "from functions import metrics_matrix"
   ]
  },
  {
   "cell_type": "code",
   "execution_count": 3,
   "metadata": {},
   "outputs": [],
   "source": [
    "# import data\n",
    "dftarget = pd.read_csv('data/train_target.csv')\n",
    "dfvalues = pd.read_csv('data/train_values.csv')\n",
    "\n",
    "# merge on id\n",
    "df = pd.merge(dftarget, dfvalues, how='inner', on='id')"
   ]
  },
  {
   "cell_type": "markdown",
   "metadata": {},
   "source": [
    "## Business Understanding\n",
    "\n",
    "The goal of this classification model is to predict the functional status of water well pumps in Tanzania. We are supplied with ample data for well pumps with known functionality, but there are many others out there whose functionality is unknown. We will try to mine this data for insights that can help the Tanzanian Ministry of Water predict if wells with unknown functionality are working or not. This information will help them to understand and determine the best practices for addressing repair of wells throughout the country. \n",
    "\n",
    "The first goal of this project is to supply a prediction model with ample accuracy so that the Tanzanian government and associated groups can analyze their next steps with a more complete understanding of well functionality accross the country. \n",
    "\n",
    "After building a successful prediction model, the next steps are to help the Tanzanian Ministry of Water determine the most efficient ways to go about repairing wells that need repair. Given the remote areas and limited repair labor, they must determine how to prioritize repair in areas and wells that would maximize the utility of their mission. "
   ]
  },
  {
   "cell_type": "markdown",
   "metadata": {},
   "source": [
    "## Data Understanding\n",
    "\n",
    "### Target\n",
    "\n",
    "The classification target of well status given in the data is grouped into three classes: 'functional', 'non-functional', and 'functional needs repair'. This classification problem could reduced to binary targets (ones needing repair or not), but given that TMW might want to prioritize completely non-functional wells over functional-needs-repair ones, we will use a ternary classification model. \n",
    "\n",
    "Target classes and frequencies are shown below."
   ]
  },
  {
   "cell_type": "code",
   "execution_count": 4,
   "metadata": {},
   "outputs": [
    {
     "data": {
      "text/plain": [
       "functional                 0.543081\n",
       "non functional             0.384242\n",
       "functional needs repair    0.072677\n",
       "Name: status_group, dtype: float64"
      ]
     },
     "execution_count": 4,
     "metadata": {},
     "output_type": "execute_result"
    }
   ],
   "source": [
    "df['status_group'].value_counts(normalize=True)"
   ]
  },
  {
   "cell_type": "markdown",
   "metadata": {},
   "source": [
    "#### Evaluation Metrics\n",
    "\n",
    "We also must address the metric on which we will measure the success of the classification model. Given different contexts for problems, one may prefer to maximize precision or recall, or perhaps order and ROC-AUC score. In this problem, I dont believe either a false positive or a false negative is worse than the other. Identifying a non-working well as working means that the well would be missed by the TSM and repair teams - this isn't good. But, identifying a working well as not-working means you may end up sending a repair person to a working well and this could mean that there isn't time to go find and fix a well that is truly broken (there are thousands of wells so we must assume the TSM will not get to every well that needs repair). In both FP/FN cases it is possible that a well that needs repair doesn't get it, and for this reason, this model will focus on maximizing the F1 score, which balances both precision and recall. \n"
   ]
  },
  {
   "cell_type": "markdown",
   "metadata": {},
   "source": [
    "### Features\n",
    "\n",
    "There are around 40 features given in the original dataset. They contain both numerical and categorical information. Many of the features are repetitive though, for example, 'extraction_type', 'extraction_type_class', and 'extraction_type_group' are almost identical. Each contains multiple of the same classes but 'class' or 'group' may have an extra couple labels created in place of a previous label. Because all of these reduntant features, we must decide which ones to use in modeling to avoid colinearities. "
   ]
  },
  {
   "cell_type": "code",
   "execution_count": 5,
   "metadata": {
    "scrolled": true
   },
   "outputs": [
    {
     "data": {
      "text/plain": [
       "['id',\n",
       " 'status_group',\n",
       " 'amount_tsh',\n",
       " 'date_recorded',\n",
       " 'funder',\n",
       " 'gps_height',\n",
       " 'installer',\n",
       " 'longitude',\n",
       " 'latitude',\n",
       " 'wpt_name',\n",
       " 'num_private',\n",
       " 'basin',\n",
       " 'subvillage',\n",
       " 'region',\n",
       " 'region_code',\n",
       " 'district_code',\n",
       " 'lga',\n",
       " 'ward',\n",
       " 'population',\n",
       " 'public_meeting',\n",
       " 'recorded_by',\n",
       " 'scheme_management',\n",
       " 'scheme_name',\n",
       " 'permit',\n",
       " 'construction_year',\n",
       " 'extraction_type',\n",
       " 'extraction_type_group',\n",
       " 'extraction_type_class',\n",
       " 'management',\n",
       " 'management_group',\n",
       " 'payment',\n",
       " 'payment_type',\n",
       " 'water_quality',\n",
       " 'quality_group',\n",
       " 'quantity',\n",
       " 'quantity_group',\n",
       " 'source',\n",
       " 'source_type',\n",
       " 'source_class',\n",
       " 'waterpoint_type',\n",
       " 'waterpoint_type_group']"
      ]
     },
     "execution_count": 5,
     "metadata": {},
     "output_type": "execute_result"
    }
   ],
   "source": [
    "# the 'duplicate' columns can easily be seen in a list\n",
    "list(df.columns)"
   ]
  },
  {
   "cell_type": "markdown",
   "metadata": {},
   "source": [
    "I have explored and selected this list below, which removes 'duplicate' type columns but still keeps one from each group. I would consider this data to encompass the whole dataset - just without colinearities. Refining further and removing columns without much variance is an option I may explore after creating some models."
   ]
  },
  {
   "cell_type": "code",
   "execution_count": 6,
   "metadata": {},
   "outputs": [],
   "source": [
    "keep_columns = ['status_group', 'amount_tsh', 'gps_height', 'num_private', 'region', 'district_code', 'lga',\n",
    "                'public_meeting', 'scheme_management', 'permit', 'construction_year', 'extraction_type',\n",
    "                'management_group', 'water_quality', 'quantity', 'source', 'waterpoint_type', \n",
    "                'population']\n",
    "\n",
    "df = df[keep_columns]"
   ]
  },
  {
   "cell_type": "markdown",
   "metadata": {},
   "source": [
    "### Description of Columns\n",
    "Here are brief descriptions of the columns selected.\n",
    "- 'amount_tsh': Total Static Head - the height of the water column produced by the pressure of the pump.\n",
    "- 'gps_height': The altitude of the pump.\n",
    "- 'num_private': No description given - possibly number of private entities (companies groups), using this well.\n",
    "- 'region': The geographical region the pump is located in.\n",
    "- 'district_code': The district (coded) pump is located in.\n",
    "- 'lga': Another geographical region description (more specific than the two above).\n",
    "- 'public_meeting': Boolean - if there has been a public meeting where this well has been addressed.\n",
    "- 'scheme_management': Group who operates the well.\n",
    "- 'permit': Boolean - if the well has a permit or not.\n",
    "- 'construction_year': The year the well was created.\n",
    "- 'extraction_type': The type of water extraction the well uses.\n",
    "- 'management_group': Like scheme management, but if that group is commercial or user-based.\n",
    "- 'water_quality': The quality of water at that well.\n",
    "- 'quantity': How much water is available to the pump - categorical.\n",
    "- 'source': The water source type for the waterpoint (groundwater, rainwater, etc).\n",
    "- 'waterpoint_type': Type of waterpoint access (handpump, spring, etc).\n",
    "- 'population': The population near the well."
   ]
  },
  {
   "cell_type": "markdown",
   "metadata": {},
   "source": [
    "### Exploring correlation between features\n",
    "\n",
    "A heat map is a good way to technically examine relationships and multicolinearities."
   ]
  },
  {
   "cell_type": "code",
   "execution_count": 7,
   "metadata": {
    "scrolled": false
   },
   "outputs": [
    {
     "data": {
      "image/png": "[encoded data removed]",
      "text/plain": [
       "<Figure size 432x288 with 2 Axes>"
      ]
     },
     "metadata": {
      "needs_background": "light"
     },
     "output_type": "display_data"
    }
   ],
   "source": [
    "# Very simple to use df.corr to get correlations between the numerical features\n",
    "corr = df.corr()\n",
    "\n",
    "# Use seaborn's heatmap to visualize\n",
    "sn.heatmap(corr, annot=True)\n",
    "plt.show()"
   ]
  },
  {
   "cell_type": "markdown",
   "metadata": {},
   "source": [
    "The numericals do not show much correlation at all. There is one pair, construction year and gps height, that oddly have a higher correlation of 0.66. I find this odd and do not know why - but this relationship could influence the decision to remove gps height in a future model as I don't expect it be be able to explain pump status as well as others.\n",
    "\n",
    "Population and construction year show the next highest correlation - 0.26. This could be influenced by an increasing population in later years, better census reporting in later years, or more urban waterpoint development in later years. This correlation is low enough that I would not consider removing either."
   ]
  },
  {
   "cell_type": "markdown",
   "metadata": {},
   "source": [
    "## Data Preparation\n",
    "\n",
    "#### Missing Values\n",
    "\n",
    "I have chosen the columns above over their counterparts for certain reasons, the main one being missing values. These columns contain less NaNs or missing groups than the others, so using these will give us access to more of our data in training than the other. Note: other columns may contain their own 'unknown' group, but only these contain actual NaN values that will throw errors in our modeling and must be grouped and labeled or removed. "
   ]
  },
  {
   "cell_type": "code",
   "execution_count": 8,
   "metadata": {},
   "outputs": [
    {
     "data": {
      "text/plain": [
       "public_meeting       3334\n",
       "scheme_management    3877\n",
       "permit               3056\n",
       "dtype: int64"
      ]
     },
     "execution_count": 8,
     "metadata": {},
     "output_type": "execute_result"
    }
   ],
   "source": [
    "df[['public_meeting', 'scheme_management', 'permit']].isna().sum()"
   ]
  },
  {
   "cell_type": "markdown",
   "metadata": {},
   "source": [
    "Of the remaining columns only 3 contain NaNs - public_meeting, permit, and scheme_management - and around 3-4 thousand missing values for each. \n",
    "\n",
    "The missing values in scheme_management can be easily imputed in preprocessing, so these will be left in order to preserve more rows of data. The public_meeting and permit columns are a bit trickier to deal with since they are boolean True/False values. If we wanted to impute and group the NaNs into an 'unknown' category, the model could no longer view it as a single column of 1s and 0s - we would be forced to one hot encode and turn 1 column to 3, or to frequency encode. "
   ]
  },
  {
   "cell_type": "code",
   "execution_count": 9,
   "metadata": {},
   "outputs": [],
   "source": [
    "df['permit'].fillna(False, inplace=True)\n",
    "df['public_meeting'].fillna(False, inplace=True)"
   ]
  },
  {
   "cell_type": "markdown",
   "metadata": {},
   "source": [
    "I think the best option is to fill the missing values with False. We retain all the rows that would be sacrificed and the True values for having a permit or a public meeting. The False column has now become 'no' or 'unknown'. This way also keeps the feature to one column instead of three which I think is redundant and excessive."
   ]
  },
  {
   "cell_type": "markdown",
   "metadata": {},
   "source": [
    "#### Data Types\n",
    "\n",
    "The last main part of data preparation is to deal with different data types in the features. We have a few numerical columns that must be imputed for missing values and scaled. The majority of the columns are categorical data -  these can be dealt with in multiple ways. One Hot Encoding is a good option, but not for a dozen columns with dozens of values. The best way to handle this is to select important colummns that have fewer numbers of values to One Hot Encode, and then trasnform the others with some kind of Frequency or Count encoder. Target Encoding or LeaveOneOut encoding is another successful way to encode how frequency of a value relates to the probability of a target class. These forms of encoding all remain one column - making it a good way to include categorical columns without creating more features. \n",
    "\n",
    "Let's start by looping through the columns to extract different data types. We will set a threshold value for the number of categories in a categorical column to decide if it will be One Hot Encoded or frequency encoded. "
   ]
  },
  {
   "cell_type": "code",
   "execution_count": 10,
   "metadata": {},
   "outputs": [],
   "source": [
    "# First split the data into features and target\n",
    "X = df.drop('status_group', axis=1)\n",
    "y = df['status_group']\n",
    "\n",
    "# We also need to first change the datatype of the district code column\n",
    "# It is numeric, but we want to treat it as categorical\n",
    "X['district_code'] = X['district_code'].astype('object')\n",
    "\n",
    "# Create arrays for different column types\n",
    "num_cols = []\n",
    "ohe_cols = []\n",
    "bool_cols = []\n",
    "freq_cols = []\n",
    "\n",
    "# Set a threshold value for the maximum number of unqiue values we want to OHE\n",
    "thresh = 7\n",
    "\n",
    "\n",
    "# Loop through the columns and append col to proper list\n",
    "for col in X.columns:\n",
    "    \n",
    "    if X[col].dtype in ['float64', 'int64']:\n",
    "        num_cols.append(col)\n",
    "        continue\n",
    "        \n",
    "    elif X[col].dtype == 'bool':\n",
    "        bool_cols.append(col)\n",
    "        continue\n",
    "    \n",
    "    elif X[col].dtype == 'object':\n",
    "        if len(X[col].unique()) > thresh:\n",
    "            freq_cols.append(col)\n",
    "        elif len(X[col].unique()) <= thresh:\n",
    "            ohe_cols.append(col)"
   ]
  },
  {
   "cell_type": "markdown",
   "metadata": {},
   "source": [
    "## Preprocessing\n",
    "\n",
    "In order to smoothly process all the columns at once, we will define some processing steps into piplines and then apply those to a column transformer which will easily manipulate our training data. Because we don't want any \"leakage\" while scaling and processing the data, the very important Train / Test split will go right here."
   ]
  },
  {
   "cell_type": "code",
   "execution_count": 11,
   "metadata": {},
   "outputs": [],
   "source": [
    "X_train, X_test, y_train, y_test = train_test_split(X, y, test_size=0.25, random_state=123)"
   ]
  },
  {
   "cell_type": "markdown",
   "metadata": {},
   "source": [
    "#### Numeric Columns\n",
    "\n",
    "First I will define the processing steps for the numeric columns. But we may want to treat those numerics slightly differently so lets consider some things first. \n",
    "\n",
    "The construction year column contains a decent amount of zero columns - we will deal with these by imputing them with the median year. We dont want to replace zeros in the other columns with their median though,because we cannot be sure if the zero is the actual value or a NaN placeholder like it is for a construction year. Because year is ordinal/interval, I will scale it using a Min/Max scaler. \n",
    "\n",
    "The num_cols list created above will have to be broken up into more specific list to deal with the difference in numeric types."
   ]
  },
  {
   "cell_type": "code",
   "execution_count": 12,
   "metadata": {},
   "outputs": [],
   "source": [
    "year_col = ['construction_year']\n",
    "\n",
    "year_scaler = Pipeline(steps=[\n",
    "    ('year_imputer', SimpleImputer(missing_values=0, strategy='median')),\n",
    "    ('year_scaler', MinMaxScaler())])"
   ]
  },
  {
   "cell_type": "markdown",
   "metadata": {},
   "source": [
    "The rest of the numeric columns will use not impute any values and use a Min Max scaler, and we dont have any NaNs to fill, so we dont need a pipeline here, we can just call the scaler we want in the column transformers. But we still need a list of those columns:"
   ]
  },
  {
   "cell_type": "code",
   "execution_count": 13,
   "metadata": {},
   "outputs": [],
   "source": [
    "num_cols = ['amount_tsh', 'gps_height', 'num_private', 'population']"
   ]
  },
  {
   "cell_type": "markdown",
   "metadata": {},
   "source": [
    "#### Frequency Encoding Columns\n",
    "\n",
    "The steps to process frequency encoded columns are simple. Impute the NaNs (only contained in scheme_management currently) into an 'unknown' group, and then transform using a normalized count encoder. "
   ]
  },
  {
   "cell_type": "code",
   "execution_count": 14,
   "metadata": {},
   "outputs": [],
   "source": [
    "freq_encoder = Pipeline(steps=[\n",
    "    ('freq_imputer', SimpleImputer(strategy='constant', fill_value='Unknown')),\n",
    "    ('freq_enc', CountEncoder(normalize=True, min_group_size=0.01, min_group_name='unknown'))\n",
    "])"
   ]
  },
  {
   "cell_type": "markdown",
   "metadata": {},
   "source": [
    "#### One Hot Columns\n",
    "\n",
    "One hot encoding is fairly straight forward and could be one step. But, because we may change the threshold for one hot ecoding and could encounter the scheme management column with NaNs, I am going to add a simple imputer step to deal with it. This will not effect any of the other columns."
   ]
  },
  {
   "cell_type": "code",
   "execution_count": 15,
   "metadata": {},
   "outputs": [],
   "source": [
    "ohe_transformer = Pipeline(steps=[\n",
    "    ('ohe_imputer', SimpleImputer(strategy='constant', fill_value='Unknown')),\n",
    "    ('ohencoder', OneHotEncoder(handle_unknown='ignore'))])"
   ]
  },
  {
   "cell_type": "markdown",
   "metadata": {},
   "source": [
    "#### Boolean Columns\n",
    "\n",
    "Since our True/False columns already contain no NaNs and can be hanlded by sklearn models, we dont need to define any steps to preprocess them. In our column transformer, they will be left out of the columns list, but setting remainder to 'passthrough' will make sure they move along into the processed dataframe untouched. "
   ]
  },
  {
   "cell_type": "markdown",
   "metadata": {},
   "source": [
    "#### Preprocessor\n",
    "\n",
    "We can now use Sklearns Column Transformer to easily perform all these steps on their respective columns at once."
   ]
  },
  {
   "cell_type": "code",
   "execution_count": 16,
   "metadata": {},
   "outputs": [],
   "source": [
    "preprocessor = ColumnTransformer(transformers=[\n",
    "    ('year', year_scaler, year_col),\n",
    "    ('num', MinMaxScaler(), num_cols),\n",
    "    ('freq', freq_encoder, freq_cols),\n",
    "    ('ohe', ohe_transformer, ohe_cols)],\n",
    "    remainder='passthrough')"
   ]
  },
  {
   "cell_type": "markdown",
   "metadata": {},
   "source": [
    "#  Modeling\n",
    "\n",
    "### Baseline\n",
    "In order to evaluate the success of following models, we create a baseline to compare to. The most naive baseline is to predict the majority class. Here, if we predicted every well to be functional, we would be correct about 54% of the time. But this baseline model is useless in practice -- if we assumed all are functional then how would we go about repairing the ones that are non-functional?\n",
    "\n",
    "We can create a better simple baseline model that predicts 2 classes and could be actionable by the TMW to some degree. Let's take the column that measures total static head of the pump ('amount_tsh') and wherever it is zero, predict 'non-functional', and wherever it is greater than zero, predict 'functional'. We can compute our success rate for this model below:"
   ]
  },
  {
   "cell_type": "code",
   "execution_count": 17,
   "metadata": {},
   "outputs": [
    {
     "name": "stdout",
     "output_type": "stream",
     "text": [
      "Total Static Head guess baseline accuracy: 0.53%\n"
     ]
    }
   ],
   "source": [
    "# Number correct is number of functional pumps with tsh > 0 and non-functional pumps with tsh=0.\n",
    "func_correct = len(df[(df['amount_tsh']>0) & (df['status_group']=='functional')])\n",
    "nonfunc_correct = len(df[(df['amount_tsh']==0) & (df['status_group']=='non functional')])\n",
    "\n",
    "# Add totals\n",
    "total_correct = func_correct + nonfunc_correct\n",
    "print(f'Total Static Head guess baseline accuracy: {total_correct/len(df):.2}%')"
   ]
  },
  {
   "cell_type": "markdown",
   "metadata": {},
   "source": [
    "This may be a lower accuaracy than the 54% majority class, but is at least actionable in terms of understanding if pumps are working or not. If they decided to go fix every pump labeled non-functional in this model, slightly over half of these pumps would be broken or in need of repair. We would have guessed 36,428 as non-functional, 16,555 would acutally be non-functional, and a lucky 2637 would be functional in need of repair. This adds up to a repair efficiency of 52.6%, which happens to be right on par with our overall prediction accuracy for this model. \n",
    "\n",
    "But, this doesn't take in to account the 3794 non-functional pumps with a TSH greater than zero we mis-labeled. While this number is smaller than expected, we would still like to be more accurate in order to identify all broken pumps and to make sure we dont waste any time going to fix functional ones (maximising both precision and recall). \n",
    "\n",
    "For now, if a model is worthwhile or not will be determined by if we can beat that 53% accuracy above. "
   ]
  },
  {
   "cell_type": "markdown",
   "metadata": {},
   "source": [
    "## First Model: K-Nearest Neighbors\n",
    "\n",
    "The first model we will explore is K-Nearest Neighbors. Computing distance and similarity between rows seems like it could yeild some useful results. Unfortunately this will also require quite a lot of time considering both the number of rows and columns we have. If no others perform well and this does, it may be worth trying to reduce the number of columns in order to perform a grid search and improve the KNN.\n",
    "\n",
    "Because we have predefined our processing steps, we can call a simple pipeline that processes and then fits the data to a Sklearn KNN model."
   ]
  },
  {
   "cell_type": "code",
   "execution_count": 18,
   "metadata": {},
   "outputs": [],
   "source": [
    "from sklearn.neighbors import KNeighborsClassifier"
   ]
  },
  {
   "cell_type": "code",
   "execution_count": 19,
   "metadata": {},
   "outputs": [],
   "source": [
    "knn_clf = Pipeline(steps=[('preprocessor', preprocessor),\n",
    "                          ('knn', KNeighborsClassifier())])\n",
    "\n",
    "knn_clf.fit(X_train,y_train);"
   ]
  },
  {
   "cell_type": "markdown",
   "metadata": {},
   "source": [
    "I tried a few versions of the K-Neighbors Classifier with different hyperparameters. The main one to adjust in a KNN model is n_neighbors, which selects the number of nearest neighbors the model should take into account (and their votes) for the predicted class of the sample. I did not run a whole grid search, but jsut tried a few values for n_neighbors and the best perfoming was 5, which is the default value in Sklearn's KNN model, this is why there are no hyperparameters defined in the above step."
   ]
  },
  {
   "cell_type": "markdown",
   "metadata": {},
   "source": [
    "## Model 2: Random Forest\n",
    "\n",
    "I think a random forest will be a good way to mine insights from this data. Thinking back to the baseline model we created, a decision tree works in the same way. Only using one if statement - if amount_tsh > 0, predict functional - we were able to achieve 53% accuracy. Following this same logic, perhaps a few more layers of decision based sorting can lead to sucessful predictions. Another benefit is it is slightly faster than KNN, making a grid search less daunting."
   ]
  },
  {
   "cell_type": "code",
   "execution_count": 20,
   "metadata": {},
   "outputs": [],
   "source": [
    "from sklearn.ensemble import RandomForestClassifier"
   ]
  },
  {
   "cell_type": "markdown",
   "metadata": {},
   "source": [
    "You can see below I have defined a few of the hyperparameters for the random forest model. I ran a few Grid Search CVs to see if we could bump up the model performance a bit, and to decrease overfitting - which tree based models are known to do.\n",
    "\n",
    "I will comment on the effects of these parameter choices in the evaluation section. "
   ]
  },
  {
   "cell_type": "code",
   "execution_count": 21,
   "metadata": {},
   "outputs": [],
   "source": [
    "forest_clf = Pipeline(steps=[('preprocessor', preprocessor),\n",
    "                         ('classifier', RandomForestClassifier(random_state=1234,\n",
    "                                                              n_estimators=160,\n",
    "                                                              min_samples_split=2,\n",
    "                                                              min_samples_leaf=2,\n",
    "                                                              max_depth=30))])\n",
    "\n",
    "forest_clf.fit(X_train, y_train);"
   ]
  },
  {
   "cell_type": "markdown",
   "metadata": {},
   "source": [
    "## Model 3: Support Vector Classifier\n",
    "\n",
    "The third model we will test is a SVC. The reason for trying a SVC is to a grid search with SVCs different kernel options. This machine learning algorithm manipulates feature space in ways that the previous two models cannot. In my opinion it is worth searching these to see if one is promising enough to continue with."
   ]
  },
  {
   "cell_type": "code",
   "execution_count": 22,
   "metadata": {},
   "outputs": [],
   "source": [
    "from sklearn.svm import SVC"
   ]
  },
  {
   "cell_type": "code",
   "execution_count": 23,
   "metadata": {},
   "outputs": [],
   "source": [
    "svc_clf = Pipeline(steps=[('preprocessor', preprocessor),\n",
    "                         ('classifier', SVC(kernel='rbf'))])\n",
    "\n",
    "svc_clf.fit(X_train, y_train);"
   ]
  },
  {
   "cell_type": "markdown",
   "metadata": {},
   "source": [
    "# Evaluation\n",
    "\n",
    "I have created a function that quickly predicts values for the given classifier, calculates and prints our desired metrics, and plots a confusion matrix of the results. I will use this to quickly evaluate each model.\n",
    "\n",
    "### KNN Model:"
   ]
  },
  {
   "cell_type": "code",
   "execution_count": 24,
   "metadata": {},
   "outputs": [
    {
     "name": "stdout",
     "output_type": "stream",
     "text": [
      "\u001b[1mTrain Scores:\u001b[0m\n",
      "       Accurary = 0.81   F1 Score = 0.8\n",
      "        Precision = 0.8   Recall = 0.81\n",
      "        \n",
      "        ----------------\n",
      "        \n",
      "\u001b[1mTest Scores:\u001b[0m\n",
      "       Accurary = 0.76   F1 Score = 0.75\n",
      "        Precision = 0.75   Recall = 0.76\n",
      "        \n"
     ]
    },
    {
     "data": {
      "image/png": "[encoded data removed]",
      "text/plain": [
       "<Figure size 432x288 with 2 Axes>"
      ]
     },
     "metadata": {
      "needs_background": "light"
     },
     "output_type": "display_data"
    }
   ],
   "source": [
    "metrics_matrix(knn_clf, X_train, y_train, X_test, y_test)"
   ]
  },
  {
   "cell_type": "markdown",
   "metadata": {},
   "source": [
    "The K-Nearest Neighbors models actually performed very well right off the bat, and did not take as long as expected to train. Generating predictions for it took much longer. \n",
    "\n",
    "An F1 score of 0.75 and an accuracy of 0.76 is much better than the baseline model. This model balanced precision and recall very well, but we can see in the confusion matrix we predicted about twice as many broken wells as functional than we predicted functional wells as broken. We can also see in the confusion matrix that only 262 of the 1076 'functional needs repair' pumps in the testing set correctly. The model was much more likely to classify them as functional. \n",
    "\n",
    "One thing to note is it is significantly less over-fit than the tree based model. But, there isn't as much parameter tuning we can use to improve testing scores. Next steps for this model are the same as the random forest, improve the data going in to improve predictions. These scores are close enough to the random forest model that I would certainly attempt both on improved datasets. \n",
    "\n",
    "\n",
    "### Random Forest Model"
   ]
  },
  {
   "cell_type": "code",
   "execution_count": 25,
   "metadata": {},
   "outputs": [
    {
     "name": "stdout",
     "output_type": "stream",
     "text": [
      "\u001b[1mTrain Scores:\u001b[0m\n",
      "       Accurary = 0.86   F1 Score = 0.86\n",
      "        Precision = 0.87   Recall = 0.86\n",
      "        \n",
      "        ----------------\n",
      "        \n",
      "\u001b[1mTest Scores:\u001b[0m\n",
      "       Accurary = 0.8   F1 Score = 0.78\n",
      "        Precision = 0.8   Recall = 0.8\n",
      "        \n"
     ]
    },
    {
     "data": {
      "image/png": "[encoded data removed]",
      "text/plain": [
       "<Figure size 432x288 with 2 Axes>"
      ]
     },
     "metadata": {
      "needs_background": "light"
     },
     "output_type": "display_data"
    }
   ],
   "source": [
    "metrics_matrix(forest_clf, X_train, y_train, X_test, y_test)"
   ]
  },
  {
   "cell_type": "markdown",
   "metadata": {},
   "source": [
    "The Random Forest model performed the best out of the three, with the highest accuracy and F1 scores of .8 and .78 on the testing set. Looking at the confusion matrix, we see almost the same patterns as above -- non-functional predicted as functional about twice as much and funtional was predicted non-functional (this pattern is also due in part to class imbalances). The functional needs repair class was predicted mostly as functional. Given these same patterns, the tree based model did fit about 4% better than the KNN. \n",
    "\n",
    "Initially, the training scores for the random forest were as high as .94-.96 (as can be expected from this model), so I used some parameter tuning to reduce this.\n",
    "\n",
    "Raising the number of n_estimators is a good way to reduce overfitting. Bumping up from 100 estimators to anywhere in the 160-200 range decreased the training scores by about .08 and raised the testing score .01-.02. Raising the minimum leaf samples from 1, and limiting the depth of the tree can also help us generalize a bit more. Overall, this combination of parameters raised the F1 score by .02 - helpful, but not huge. \n",
    "\n",
    "I performed more extensive grid searches around these paramters and found that most combinations in this range all improved the testing F1 by about that same 0.02 from a model without defining parameters. I also noticed that at this point, the random state of the model was influencing these tiny bumps and dips in score as much as the other hyperparameters, so I decided we must have reached a limit on how well a random forest model can perform on the current state of the data.\n",
    "\n",
    "I like a tree based model for this problem, but we have hit the ceiling for parameter tuning. My next steps for this model would be to adjust the data going into it in order to make a more generalizable model. Having unnessesary columns can lead the model to overfit naturally. Also seeing the same patterns in the confusion matrix for the RF and KNN models tells me that the next problems to address must lie in the data itself and not the individual models. Finding and using only the data that is significant to the prediction is the best way to now improve the testing predictions and create a good generalizeable model."
   ]
  },
  {
   "cell_type": "markdown",
   "metadata": {},
   "source": [
    "### SVC Model\n",
    "\n",
    "I attempted each kernel option in another notebook, and none improved performance from 'rbf', radial basis funciton, the default. A 'poly' kernel did almost the same as 'rbf'. \n",
    "\n",
    "The SVC model took way longer to fit and predict than the other two, and did not perform as well, so it was not worth exploring a grid search to tune more parameters."
   ]
  },
  {
   "cell_type": "code",
   "execution_count": 26,
   "metadata": {},
   "outputs": [
    {
     "name": "stderr",
     "output_type": "stream",
     "text": [
      "/Applications/anaconda3/envs/learn-env/lib/python3.8/site-packages/sklearn/metrics/_classification.py:1221: UndefinedMetricWarning: Precision is ill-defined and being set to 0.0 in labels with no predicted samples. Use `zero_division` parameter to control this behavior.\n",
      "  _warn_prf(average, modifier, msg_start, len(result))\n"
     ]
    },
    {
     "name": "stdout",
     "output_type": "stream",
     "text": [
      "\u001b[1mTrain Scores:\u001b[0m\n",
      "       Accurary = 0.73   F1 Score = 0.69\n",
      "        Precision = 0.7   Recall = 0.73\n",
      "        \n",
      "        ----------------\n",
      "        \n",
      "\u001b[1mTest Scores:\u001b[0m\n",
      "       Accurary = 0.72   F1 Score = 0.68\n",
      "        Precision = 0.7   Recall = 0.72\n",
      "        \n"
     ]
    },
    {
     "data": {
      "image/png": "[encoded data removed]",
      "text/plain": [
       "<Figure size 432x288 with 2 Axes>"
      ]
     },
     "metadata": {
      "needs_background": "light"
     },
     "output_type": "display_data"
    }
   ],
   "source": [
    "metrics_matrix(svc_clf, X_train, y_train, X_test, y_test)"
   ]
  },
  {
   "cell_type": "markdown",
   "metadata": {},
   "source": [
    "The SVC model yeilded some funky results. First notice the bright yellow square in the top left, the SVC model correctly predicted more functional wells than either of the two other models. I breifly wondered why, until I saw the middle column. The SVC decided to make this a binary classification and predicted a total of zero rows as the 'functional needs repair' class. These missed guesses are probably padding the success of the functional class, which is also the majority class and easy to predict just based on its higher frequency. \n",
    "\n",
    "Considering that the SVC completely ignored one of the target classes, and took about 30 times as long to do it, I would not move forward with tuning this model or attempting future iterations, the other two did more than well enough to use. Maybe, in a situation where the Tanzanian Ministry of Water decided to make their well status binary I would consider trying an SVC again.. maybe..."
   ]
  },
  {
   "cell_type": "markdown",
   "metadata": {},
   "source": [
    "## Next Steps\n",
    "\n",
    "As mentioned above, next steps for this model include speaking with the Tanzanian Ministry of Water to determine exactly how they would approach pump repair and if that should influence model building. Also getting more complete information on the columns from them would be helpful, eg. what units is the total static head column is in, and getting a better understanding of the geographic regions and types of pumps.\n",
    "\n",
    "Exploring the variance and correlation of the categorical columns will help to elimate some of the more useless features and reduce overfitting, or fitting to noise, in the Random forest model.\n",
    "\n",
    "Once we have been able to successfuly populate all the unknown pump statuses, we can find the best ways to address repairs. One example of this might be concentrating resources into the areas that are most in need of repairs. Here is an example map showing how many repairs are needed in each ward.\n",
    "\n",
    "<img src='images/ward_repairs_map.jpg'>\n",
    "\n",
    "\n",
    "And many maps and similar analyses can be performed. As another example, the next steps I would take would be to find not just the areas with the most repairs, but the areas with both high repairs and high population. Or, just the count of certain types of pumps in need of repair. The possibilities are endless and can be discussed with the Tanzanian Ministry of Water.\n",
    "\n",
    "#### Thanks for reading!"
   ]
  },
  {
   "cell_type": "code",
   "execution_count": null,
   "metadata": {},
   "outputs": [],
   "source": []
  }
 ],
 "metadata": {
  "kernelspec": {
   "display_name": "learn-env",
   "language": "python",
   "name": "learn-env"
  },
  "language_info": {
   "codemirror_mode": {
    "name": "ipython",
    "version": 3
   },
   "file_extension": ".py",
   "mimetype": "text/x-python",
   "name": "python",
   "nbconvert_exporter": "python",
   "pygments_lexer": "ipython3",
   "version": "3.8.8"
  }
 },
 "nbformat": 4,
 "nbformat_minor": 4
}
