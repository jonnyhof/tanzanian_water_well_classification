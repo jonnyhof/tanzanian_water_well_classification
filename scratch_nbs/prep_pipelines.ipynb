{
 "cells": [
  {
   "cell_type": "code",
   "execution_count": 196,
   "metadata": {},
   "outputs": [],
   "source": [
    "import numpy as np\n",
    "import pandas as pd\n",
    "import matplotlib.pyplot as plt\n",
    "\n",
    "from sklearn.feature_selection import mutual_info_classif, SelectKBest\n",
    "\n",
    "from sklearn.pipeline import Pipeline\n",
    "import category_encoders as ce\n",
    "from category_encoders import LeaveOneOutEncoder, TargetEncoder\n",
    "from sklearn.preprocessing import LabelEncoder, OneHotEncoder, MinMaxScaler, StandardScaler\n",
    "from sklearn.impute import SimpleImputer\n",
    "from sklearn.compose import ColumnTransformer\n",
    "\n",
    "from sklearn.model_selection import train_test_split, cross_validate, GridSearchCV\n",
    "from sklearn.metrics import accuracy_score, confusion_matrix, classification_report, f1_score, roc_auc_score\n",
    "from sklearn.ensemble import RandomForestClassifier\n",
    "\n",
    "from sklearn.svm import SVC\n",
    "from sklearn.naive_bayes import GaussianNB\n",
    "from sklearn.neighbors import KNeighborsClassifier\n",
    "\n",
    "\n",
    "from data_prep_functions import *"
   ]
  },
  {
   "cell_type": "code",
   "execution_count": 355,
   "metadata": {},
   "outputs": [],
   "source": [
    "# import data\n",
    "dftrain = pd.read_csv('data/train_target.csv')\n",
    "dftest = pd.read_csv('data/train_values.csv')\n",
    "\n",
    "# merge on id\n",
    "df = pd.merge(dftrain, dftest, how='inner', on='id')"
   ]
  },
  {
   "cell_type": "code",
   "execution_count": 356,
   "metadata": {},
   "outputs": [],
   "source": [
    "# what to include\n",
    "keep_columns = ['status_group', 'amount_tsh', 'gps_height', 'num_private', 'region', 'district_code', 'lga',\n",
    "                'public_meeting', 'scheme_management', 'permit', 'construction_year', 'extraction_type',\n",
    "                'management_group', 'water_quality', 'quantity', 'source', 'waterpoint_type', \n",
    "                'population']\n",
    "\n",
    "df = df[keep_columns]"
   ]
  },
  {
   "cell_type": "code",
   "execution_count": 357,
   "metadata": {},
   "outputs": [],
   "source": [
    "# drop missing values\n",
    "df.dropna(inplace=True)"
   ]
  },
  {
   "cell_type": "code",
   "execution_count": 358,
   "metadata": {},
   "outputs": [
    {
     "data": {
      "text/plain": [
       "functional                 0.549367\n",
       "non functional             0.377019\n",
       "functional needs repair    0.073614\n",
       "Name: status_group, dtype: float64"
      ]
     },
     "execution_count": 358,
     "metadata": {},
     "output_type": "execute_result"
    }
   ],
   "source": [
    "df['status_group'].value_counts(normalize=True)"
   ]
  },
  {
   "cell_type": "code",
   "execution_count": 359,
   "metadata": {},
   "outputs": [
    {
     "name": "stdout",
     "output_type": "stream",
     "text": [
      "0.5313496920206255\n"
     ]
    }
   ],
   "source": [
    "# baseline 2\n",
    "func_correct = len(df[(df['amount_tsh']>0) & (df['status_group']=='functional')])\n",
    "nonfunc_correct = len(df[(df['amount_tsh']==0) & (df['status_group']=='non functional')])\n",
    "\n",
    "total_correct = func_correct + nonfunc_correct\n",
    "total = len(df)\n",
    "print(total_correct/total)"
   ]
  },
  {
   "cell_type": "code",
   "execution_count": null,
   "metadata": {},
   "outputs": [],
   "source": []
  },
  {
   "cell_type": "code",
   "execution_count": 200,
   "metadata": {
    "scrolled": true
   },
   "outputs": [
    {
     "name": "stdout",
     "output_type": "stream",
     "text": [
      "count     49841.000000\n",
      "mean        352.215854\n",
      "std        2793.448736\n",
      "min           0.000000\n",
      "25%           0.000000\n",
      "50%           0.000000\n",
      "75%          30.000000\n",
      "max      250000.000000\n",
      "Name: amount_tsh, dtype: float64\n",
      "\n",
      "I am concerned about the units in the Total Static Head Column.\n",
      "The mean value is 350 but ranges up to hundreds of thousands. \n",
      "Could it be reported in both meters and centimeters?\n",
      "Leaves me uncertain how to deal with this data or to scale/trim.\n"
     ]
    }
   ],
   "source": [
    "print(df['amount_tsh'].describe())\n",
    "\n",
    "print(\"\"\"\n",
    "I am concerned about the units in the Total Static Head Column.\n",
    "The mean value is 350 but ranges up to hundreds of thousands. \n",
    "Could it be reported in both meters and centimeters?\n",
    "Leaves me uncertain how to deal with this data or to scale/trim.\"\"\")"
   ]
  },
  {
   "cell_type": "code",
   "execution_count": 201,
   "metadata": {},
   "outputs": [
    {
     "name": "stdout",
     "output_type": "stream",
     "text": [
      "\n",
      "There are 33667 wells that have a Total Static Head of zero.\n",
      "Out of these, 15153 are non functional.\n",
      "\n"
     ]
    }
   ],
   "source": [
    "num_tsh_zero = len(df[df['amount_tsh']==0])\n",
    "num_tsh_zero_nonfunc = len(df[(df['amount_tsh']==0) & (df['status_group']=='non functional')])\n",
    "\n",
    "print(f\"\"\"\n",
    "There are {num_tsh_zero} wells that have a Total Static Head of zero.\n",
    "Out of these, {num_tsh_zero_nonfunc} are non functional.\n",
    "\"\"\")"
   ]
  },
  {
   "cell_type": "code",
   "execution_count": 202,
   "metadata": {},
   "outputs": [
    {
     "name": "stdout",
     "output_type": "stream",
     "text": [
      "\n",
      "There are 16174 wells that have a Total Static Head greater than zero.\n",
      "Out of these, 3638 are non functional.\n",
      "\n",
      "-------------------\n",
      "\n",
      "So, when a well has a TSH of zero, it is much more likely to be non-functional.\n",
      "\n"
     ]
    }
   ],
   "source": [
    "num_tsh_positive = len(df[df['amount_tsh']>0])\n",
    "num_tsh_pos_nonfunc = len(df[(df['amount_tsh']>0) & (df['status_group']=='non functional')])\n",
    "\n",
    "print(f\"\"\"\n",
    "There are {num_tsh_positive} wells that have a Total Static Head greater than zero.\n",
    "Out of these, {num_tsh_pos_nonfunc} are non functional.\n",
    "\n",
    "-------------------\n",
    "\n",
    "So, when a well has a TSH of zero, it is much more likely to be non-functional.\n",
    "\"\"\")"
   ]
  },
  {
   "cell_type": "code",
   "execution_count": 203,
   "metadata": {
    "scrolled": true
   },
   "outputs": [
    {
     "name": "stdout",
     "output_type": "stream",
     "text": [
      "\n",
      "There are 45360 rows that have had a public meeting.\n",
      "Out of these, 16559 are non functional.\n",
      "----------------------------------\n",
      "So if there has been a meeting or not isn't a perfect indicator of non-functionality on its own.\n",
      "\n",
      "\n"
     ]
    }
   ],
   "source": [
    "num_meeting = len(df[df['public_meeting']==True])\n",
    "num_meeting_nonfunc = len(df[(df['public_meeting']==True) & (df['status_group']=='non functional')])\n",
    "\n",
    "print(f\"\"\"\n",
    "There are {num_meeting} rows that have had a public meeting.\n",
    "Out of these, {num_meeting_nonfunc} are non functional.\n",
    "----------------------------------\n",
    "So if there has been a meeting or not isn't a perfect indicator of non-functionality on its own.\n",
    "\n",
    "\"\"\")"
   ]
  },
  {
   "cell_type": "code",
   "execution_count": 204,
   "metadata": {},
   "outputs": [
    {
     "data": {
      "text/html": [
       "<div>\n",
       "<style scoped>\n",
       "    .dataframe tbody tr th:only-of-type {\n",
       "        vertical-align: middle;\n",
       "    }\n",
       "\n",
       "    .dataframe tbody tr th {\n",
       "        vertical-align: top;\n",
       "    }\n",
       "\n",
       "    .dataframe thead th {\n",
       "        text-align: right;\n",
       "    }\n",
       "</style>\n",
       "<table border=\"1\" class=\"dataframe\">\n",
       "  <thead>\n",
       "    <tr style=\"text-align: right;\">\n",
       "      <th></th>\n",
       "      <th>status_group</th>\n",
       "      <th>amount_tsh</th>\n",
       "      <th>gps_height</th>\n",
       "      <th>num_private</th>\n",
       "      <th>region</th>\n",
       "      <th>district_code</th>\n",
       "      <th>lga</th>\n",
       "      <th>public_meeting</th>\n",
       "      <th>scheme_management</th>\n",
       "      <th>permit</th>\n",
       "      <th>construction_year</th>\n",
       "      <th>extraction_type</th>\n",
       "      <th>management</th>\n",
       "      <th>management_group</th>\n",
       "      <th>water_quality</th>\n",
       "      <th>quantity</th>\n",
       "      <th>source</th>\n",
       "      <th>waterpoint_type</th>\n",
       "      <th>population</th>\n",
       "    </tr>\n",
       "  </thead>\n",
       "  <tbody>\n",
       "    <tr>\n",
       "      <th>0</th>\n",
       "      <td>functional</td>\n",
       "      <td>6000.0</td>\n",
       "      <td>1390</td>\n",
       "      <td>0</td>\n",
       "      <td>Iringa</td>\n",
       "      <td>5</td>\n",
       "      <td>Ludewa</td>\n",
       "      <td>True</td>\n",
       "      <td>VWC</td>\n",
       "      <td>False</td>\n",
       "      <td>1999</td>\n",
       "      <td>gravity</td>\n",
       "      <td>vwc</td>\n",
       "      <td>user-group</td>\n",
       "      <td>soft</td>\n",
       "      <td>enough</td>\n",
       "      <td>spring</td>\n",
       "      <td>communal standpipe</td>\n",
       "      <td>109</td>\n",
       "    </tr>\n",
       "    <tr>\n",
       "      <th>38</th>\n",
       "      <td>functional</td>\n",
       "      <td>4000.0</td>\n",
       "      <td>1955</td>\n",
       "      <td>0</td>\n",
       "      <td>Iringa</td>\n",
       "      <td>7</td>\n",
       "      <td>Kilolo</td>\n",
       "      <td>True</td>\n",
       "      <td>VWC</td>\n",
       "      <td>True</td>\n",
       "      <td>2003</td>\n",
       "      <td>gravity</td>\n",
       "      <td>vwc</td>\n",
       "      <td>user-group</td>\n",
       "      <td>soft</td>\n",
       "      <td>enough</td>\n",
       "      <td>river</td>\n",
       "      <td>communal standpipe</td>\n",
       "      <td>100</td>\n",
       "    </tr>\n",
       "    <tr>\n",
       "      <th>48</th>\n",
       "      <td>functional</td>\n",
       "      <td>4000.0</td>\n",
       "      <td>1982</td>\n",
       "      <td>0</td>\n",
       "      <td>Iringa</td>\n",
       "      <td>7</td>\n",
       "      <td>Kilolo</td>\n",
       "      <td>True</td>\n",
       "      <td>VWC</td>\n",
       "      <td>True</td>\n",
       "      <td>2003</td>\n",
       "      <td>gravity</td>\n",
       "      <td>vwc</td>\n",
       "      <td>user-group</td>\n",
       "      <td>soft</td>\n",
       "      <td>enough</td>\n",
       "      <td>spring</td>\n",
       "      <td>communal standpipe</td>\n",
       "      <td>70</td>\n",
       "    </tr>\n",
       "    <tr>\n",
       "      <th>49</th>\n",
       "      <td>functional</td>\n",
       "      <td>1500.0</td>\n",
       "      <td>2169</td>\n",
       "      <td>0</td>\n",
       "      <td>Iringa</td>\n",
       "      <td>4</td>\n",
       "      <td>Njombe</td>\n",
       "      <td>True</td>\n",
       "      <td>VWC</td>\n",
       "      <td>True</td>\n",
       "      <td>2007</td>\n",
       "      <td>gravity</td>\n",
       "      <td>vwc</td>\n",
       "      <td>user-group</td>\n",
       "      <td>soft</td>\n",
       "      <td>enough</td>\n",
       "      <td>spring</td>\n",
       "      <td>communal standpipe</td>\n",
       "      <td>20</td>\n",
       "    </tr>\n",
       "    <tr>\n",
       "      <th>147</th>\n",
       "      <td>functional</td>\n",
       "      <td>2000.0</td>\n",
       "      <td>1603</td>\n",
       "      <td>0</td>\n",
       "      <td>Iringa</td>\n",
       "      <td>4</td>\n",
       "      <td>Njombe</td>\n",
       "      <td>True</td>\n",
       "      <td>VWC</td>\n",
       "      <td>False</td>\n",
       "      <td>2010</td>\n",
       "      <td>other - rope pump</td>\n",
       "      <td>vwc</td>\n",
       "      <td>user-group</td>\n",
       "      <td>soft</td>\n",
       "      <td>enough</td>\n",
       "      <td>hand dtw</td>\n",
       "      <td>hand pump</td>\n",
       "      <td>40</td>\n",
       "    </tr>\n",
       "    <tr>\n",
       "      <th>...</th>\n",
       "      <td>...</td>\n",
       "      <td>...</td>\n",
       "      <td>...</td>\n",
       "      <td>...</td>\n",
       "      <td>...</td>\n",
       "      <td>...</td>\n",
       "      <td>...</td>\n",
       "      <td>...</td>\n",
       "      <td>...</td>\n",
       "      <td>...</td>\n",
       "      <td>...</td>\n",
       "      <td>...</td>\n",
       "      <td>...</td>\n",
       "      <td>...</td>\n",
       "      <td>...</td>\n",
       "      <td>...</td>\n",
       "      <td>...</td>\n",
       "      <td>...</td>\n",
       "      <td>...</td>\n",
       "    </tr>\n",
       "    <tr>\n",
       "      <th>59367</th>\n",
       "      <td>functional</td>\n",
       "      <td>2000.0</td>\n",
       "      <td>1977</td>\n",
       "      <td>0</td>\n",
       "      <td>Iringa</td>\n",
       "      <td>3</td>\n",
       "      <td>Makete</td>\n",
       "      <td>True</td>\n",
       "      <td>VWC</td>\n",
       "      <td>False</td>\n",
       "      <td>1976</td>\n",
       "      <td>gravity</td>\n",
       "      <td>vwc</td>\n",
       "      <td>user-group</td>\n",
       "      <td>soft</td>\n",
       "      <td>enough</td>\n",
       "      <td>spring</td>\n",
       "      <td>communal standpipe</td>\n",
       "      <td>0</td>\n",
       "    </tr>\n",
       "    <tr>\n",
       "      <th>59373</th>\n",
       "      <td>functional</td>\n",
       "      <td>5000.0</td>\n",
       "      <td>1137</td>\n",
       "      <td>0</td>\n",
       "      <td>Rukwa</td>\n",
       "      <td>1</td>\n",
       "      <td>Mpanda</td>\n",
       "      <td>True</td>\n",
       "      <td>VWC</td>\n",
       "      <td>True</td>\n",
       "      <td>1988</td>\n",
       "      <td>india mark ii</td>\n",
       "      <td>vwc</td>\n",
       "      <td>user-group</td>\n",
       "      <td>soft</td>\n",
       "      <td>enough</td>\n",
       "      <td>machine dbh</td>\n",
       "      <td>hand pump</td>\n",
       "      <td>96</td>\n",
       "    </tr>\n",
       "    <tr>\n",
       "      <th>59375</th>\n",
       "      <td>functional</td>\n",
       "      <td>40000.0</td>\n",
       "      <td>54</td>\n",
       "      <td>0</td>\n",
       "      <td>Tanga</td>\n",
       "      <td>4</td>\n",
       "      <td>Tanga</td>\n",
       "      <td>True</td>\n",
       "      <td>VWC</td>\n",
       "      <td>True</td>\n",
       "      <td>2005</td>\n",
       "      <td>gravity</td>\n",
       "      <td>vwc</td>\n",
       "      <td>user-group</td>\n",
       "      <td>soft</td>\n",
       "      <td>enough</td>\n",
       "      <td>river</td>\n",
       "      <td>communal standpipe</td>\n",
       "      <td>609</td>\n",
       "    </tr>\n",
       "    <tr>\n",
       "      <th>59380</th>\n",
       "      <td>non functional</td>\n",
       "      <td>6000.0</td>\n",
       "      <td>1439</td>\n",
       "      <td>0</td>\n",
       "      <td>Iringa</td>\n",
       "      <td>5</td>\n",
       "      <td>Ludewa</td>\n",
       "      <td>True</td>\n",
       "      <td>VWC</td>\n",
       "      <td>False</td>\n",
       "      <td>1999</td>\n",
       "      <td>gravity</td>\n",
       "      <td>vwc</td>\n",
       "      <td>user-group</td>\n",
       "      <td>soft</td>\n",
       "      <td>dry</td>\n",
       "      <td>spring</td>\n",
       "      <td>communal standpipe</td>\n",
       "      <td>50</td>\n",
       "    </tr>\n",
       "    <tr>\n",
       "      <th>59396</th>\n",
       "      <td>functional</td>\n",
       "      <td>4700.0</td>\n",
       "      <td>1212</td>\n",
       "      <td>0</td>\n",
       "      <td>Iringa</td>\n",
       "      <td>4</td>\n",
       "      <td>Njombe</td>\n",
       "      <td>True</td>\n",
       "      <td>VWC</td>\n",
       "      <td>True</td>\n",
       "      <td>1996</td>\n",
       "      <td>gravity</td>\n",
       "      <td>vwc</td>\n",
       "      <td>user-group</td>\n",
       "      <td>soft</td>\n",
       "      <td>enough</td>\n",
       "      <td>river</td>\n",
       "      <td>communal standpipe</td>\n",
       "      <td>56</td>\n",
       "    </tr>\n",
       "  </tbody>\n",
       "</table>\n",
       "<p>2891 rows × 19 columns</p>\n",
       "</div>"
      ],
      "text/plain": [
       "         status_group  amount_tsh  gps_height  num_private  region  \\\n",
       "0          functional      6000.0        1390            0  Iringa   \n",
       "38         functional      4000.0        1955            0  Iringa   \n",
       "48         functional      4000.0        1982            0  Iringa   \n",
       "49         functional      1500.0        2169            0  Iringa   \n",
       "147        functional      2000.0        1603            0  Iringa   \n",
       "...               ...         ...         ...          ...     ...   \n",
       "59367      functional      2000.0        1977            0  Iringa   \n",
       "59373      functional      5000.0        1137            0   Rukwa   \n",
       "59375      functional     40000.0          54            0   Tanga   \n",
       "59380  non functional      6000.0        1439            0  Iringa   \n",
       "59396      functional      4700.0        1212            0  Iringa   \n",
       "\n",
       "       district_code     lga public_meeting scheme_management permit  \\\n",
       "0                  5  Ludewa           True               VWC  False   \n",
       "38                 7  Kilolo           True               VWC   True   \n",
       "48                 7  Kilolo           True               VWC   True   \n",
       "49                 4  Njombe           True               VWC   True   \n",
       "147                4  Njombe           True               VWC  False   \n",
       "...              ...     ...            ...               ...    ...   \n",
       "59367              3  Makete           True               VWC  False   \n",
       "59373              1  Mpanda           True               VWC   True   \n",
       "59375              4   Tanga           True               VWC   True   \n",
       "59380              5  Ludewa           True               VWC  False   \n",
       "59396              4  Njombe           True               VWC   True   \n",
       "\n",
       "       construction_year    extraction_type management management_group  \\\n",
       "0                   1999            gravity        vwc       user-group   \n",
       "38                  2003            gravity        vwc       user-group   \n",
       "48                  2003            gravity        vwc       user-group   \n",
       "49                  2007            gravity        vwc       user-group   \n",
       "147                 2010  other - rope pump        vwc       user-group   \n",
       "...                  ...                ...        ...              ...   \n",
       "59367               1976            gravity        vwc       user-group   \n",
       "59373               1988      india mark ii        vwc       user-group   \n",
       "59375               2005            gravity        vwc       user-group   \n",
       "59380               1999            gravity        vwc       user-group   \n",
       "59396               1996            gravity        vwc       user-group   \n",
       "\n",
       "      water_quality quantity       source     waterpoint_type  population  \n",
       "0              soft   enough       spring  communal standpipe         109  \n",
       "38             soft   enough        river  communal standpipe         100  \n",
       "48             soft   enough       spring  communal standpipe          70  \n",
       "49             soft   enough       spring  communal standpipe          20  \n",
       "147            soft   enough     hand dtw           hand pump          40  \n",
       "...             ...      ...          ...                 ...         ...  \n",
       "59367          soft   enough       spring  communal standpipe           0  \n",
       "59373          soft   enough  machine dbh           hand pump          96  \n",
       "59375          soft   enough        river  communal standpipe         609  \n",
       "59380          soft      dry       spring  communal standpipe          50  \n",
       "59396          soft   enough        river  communal standpipe          56  \n",
       "\n",
       "[2891 rows x 19 columns]"
      ]
     },
     "execution_count": 204,
     "metadata": {},
     "output_type": "execute_result"
    }
   ],
   "source": [
    "df[df['amount_tsh']>1000]"
   ]
  },
  {
   "cell_type": "code",
   "execution_count": 205,
   "metadata": {},
   "outputs": [
    {
     "data": {
      "text/plain": [
       "array(['enough', 'dry', 'seasonal', 'insufficient', 'unknown'],\n",
       "      dtype=object)"
      ]
     },
     "execution_count": 205,
     "metadata": {},
     "output_type": "execute_result"
    }
   ],
   "source": [
    "df['quantity'].unique()"
   ]
  },
  {
   "cell_type": "code",
   "execution_count": 361,
   "metadata": {},
   "outputs": [],
   "source": [
    "le = LabelEncoder()\n",
    "le.fit(['non functional', 'functional', 'functional needs repair'])\n",
    "\n",
    "target = le.transform(df['status_group'])\n",
    "\n",
    "df['target'] = target"
   ]
  },
  {
   "cell_type": "code",
   "execution_count": 362,
   "metadata": {},
   "outputs": [
    {
     "data": {
      "text/plain": [
       "functional                 27381\n",
       "non functional             18791\n",
       "functional needs repair     3669\n",
       "Name: status_group, dtype: int64"
      ]
     },
     "execution_count": 362,
     "metadata": {},
     "output_type": "execute_result"
    }
   ],
   "source": [
    "df['status_group'].value_counts()"
   ]
  },
  {
   "cell_type": "code",
   "execution_count": 363,
   "metadata": {
    "scrolled": true
   },
   "outputs": [
    {
     "data": {
      "text/plain": [
       "0    27381\n",
       "2    18791\n",
       "1     3669\n",
       "Name: target, dtype: int64"
      ]
     },
     "execution_count": 363,
     "metadata": {},
     "output_type": "execute_result"
    }
   ],
   "source": [
    "df['target'].value_counts()"
   ]
  },
  {
   "cell_type": "code",
   "execution_count": 364,
   "metadata": {},
   "outputs": [],
   "source": [
    "# can now select X and y from cleaned data\n",
    "X = df.drop(['status_group', 'target', ], axis=1)\n",
    "y = df['status_group']"
   ]
  },
  {
   "cell_type": "code",
   "execution_count": 365,
   "metadata": {},
   "outputs": [],
   "source": [
    "# dont want district codes to be treated as numerical\n",
    "X['district_code'] = X['district_code'].astype('object');"
   ]
  },
  {
   "cell_type": "code",
   "execution_count": 366,
   "metadata": {},
   "outputs": [],
   "source": [
    "num_cols = []\n",
    "ohe_cols = []\n",
    "freq_cols = []\n",
    "thresh = 7\n",
    "\n",
    "for col in X.columns:\n",
    "    \n",
    "    if X[col].dtype in ['float64', 'int64']:\n",
    "        num_cols.append(col)\n",
    "        continue\n",
    "    \n",
    "    elif X[col].dtype == 'object':\n",
    "        if len(X[col].unique()) > thresh:\n",
    "            freq_cols.append(col)\n",
    "        elif len(X[col].unique()) <= thresh:\n",
    "            ohe_cols.append(col)\n"
   ]
  },
  {
   "cell_type": "code",
   "execution_count": 367,
   "metadata": {},
   "outputs": [
    {
     "data": {
      "text/plain": [
       "['amount_tsh', 'gps_height', 'num_private', 'construction_year', 'population']"
      ]
     },
     "execution_count": 367,
     "metadata": {},
     "output_type": "execute_result"
    }
   ],
   "source": [
    "num_cols"
   ]
  },
  {
   "cell_type": "code",
   "execution_count": 368,
   "metadata": {},
   "outputs": [],
   "source": [
    "# OHE cols contains two True/False columns\n",
    "# One Hot Encoding those would be redundant, \n",
    "# so store them separately so they can be ignored by ColumnTransformer\n",
    "TF_cols = ohe_cols[0:2]\n",
    "ohe_cols = ohe_cols[2:]"
   ]
  },
  {
   "cell_type": "code",
   "execution_count": 370,
   "metadata": {},
   "outputs": [],
   "source": [
    "a = num_cols.index('construction_year')\n",
    "del num_cols[a]"
   ]
  },
  {
   "cell_type": "code",
   "execution_count": 371,
   "metadata": {
    "scrolled": true
   },
   "outputs": [
    {
     "data": {
      "text/plain": [
       "['region',\n",
       " 'district_code',\n",
       " 'lga',\n",
       " 'scheme_management',\n",
       " 'extraction_type',\n",
       " 'water_quality',\n",
       " 'source']"
      ]
     },
     "execution_count": 371,
     "metadata": {},
     "output_type": "execute_result"
    }
   ],
   "source": [
    "freq_cols"
   ]
  },
  {
   "cell_type": "code",
   "execution_count": 372,
   "metadata": {},
   "outputs": [
    {
     "data": {
      "text/plain": [
       "['amount_tsh', 'gps_height', 'num_private', 'population']"
      ]
     },
     "execution_count": 372,
     "metadata": {},
     "output_type": "execute_result"
    }
   ],
   "source": [
    "num_cols"
   ]
  },
  {
   "cell_type": "code",
   "execution_count": 375,
   "metadata": {},
   "outputs": [
    {
     "data": {
      "text/plain": [
       "['management_group', 'quantity', 'waterpoint_type']"
      ]
     },
     "execution_count": 375,
     "metadata": {},
     "output_type": "execute_result"
    }
   ],
   "source": [
    "ohe_cols"
   ]
  },
  {
   "cell_type": "code",
   "execution_count": 376,
   "metadata": {},
   "outputs": [],
   "source": [
    "year_cols = ['construction_year']"
   ]
  },
  {
   "cell_type": "code",
   "execution_count": 377,
   "metadata": {},
   "outputs": [
    {
     "name": "stdout",
     "output_type": "stream",
     "text": [
      "<class 'pandas.core.frame.DataFrame'>\n",
      "Int64Index: 49841 entries, 0 to 59399\n",
      "Data columns (total 17 columns):\n",
      " #   Column             Non-Null Count  Dtype  \n",
      "---  ------             --------------  -----  \n",
      " 0   amount_tsh         49841 non-null  float64\n",
      " 1   gps_height         49841 non-null  int64  \n",
      " 2   num_private        49841 non-null  int64  \n",
      " 3   region             49841 non-null  object \n",
      " 4   district_code      49841 non-null  object \n",
      " 5   lga                49841 non-null  object \n",
      " 6   public_meeting     49841 non-null  object \n",
      " 7   scheme_management  49841 non-null  object \n",
      " 8   permit             49841 non-null  object \n",
      " 9   construction_year  49841 non-null  int64  \n",
      " 10  extraction_type    49841 non-null  object \n",
      " 11  management_group   49841 non-null  object \n",
      " 12  water_quality      49841 non-null  object \n",
      " 13  quantity           49841 non-null  object \n",
      " 14  source             49841 non-null  object \n",
      " 15  waterpoint_type    49841 non-null  object \n",
      " 16  population         49841 non-null  int64  \n",
      "dtypes: float64(1), int64(4), object(12)\n",
      "memory usage: 6.8+ MB\n"
     ]
    }
   ],
   "source": [
    "X.info()"
   ]
  },
  {
   "cell_type": "code",
   "execution_count": 386,
   "metadata": {},
   "outputs": [],
   "source": [
    "X['construction_year'] = X['construction_year'].astype('str');"
   ]
  },
  {
   "cell_type": "code",
   "execution_count": 387,
   "metadata": {},
   "outputs": [],
   "source": [
    "# scaler pipeline\n",
    "num_transformer = Pipeline(steps=[\n",
    "    ('num_imputer', SimpleImputer(strategy='median')),\n",
    "    ('scaler', MinMaxScaler())])"
   ]
  },
  {
   "cell_type": "code",
   "execution_count": 388,
   "metadata": {},
   "outputs": [],
   "source": [
    "ohe_transformer = Pipeline(steps=[\n",
    "    ('ohe_imputer', SimpleImputer(strategy='constant', fill_value='Unknown')),\n",
    "    ('ohencoder', OneHotEncoder(handle_unknown='ignore'))])"
   ]
  },
  {
   "cell_type": "code",
   "execution_count": 389,
   "metadata": {},
   "outputs": [],
   "source": [
    "year_transformer = Pipeline(steps=[\n",
    "    ('year_imp', SimpleImputer(missing_values='0', strategy='constant', fill_value='Unknown')),\n",
    "    ('yeahohe', OneHotEncoder(handle_unknown='ignore'))\n",
    "])"
   ]
  },
  {
   "cell_type": "code",
   "execution_count": 390,
   "metadata": {},
   "outputs": [],
   "source": [
    "freq_transformer = Pipeline(steps=[\n",
    "    ('freq_imputer', SimpleImputer(strategy='constant', fill_value='Unknown')),\n",
    "#     ('loo_enc', LeaveOneOutEncoder()\n",
    "    ('freq_enc', ce.count.CountEncoder(normalize=True, \n",
    "                                       handle_unknown=0,\n",
    "                                       min_group_size=0.001,\n",
    "                                       min_group_name='Other'\n",
    "                                      ))])"
   ]
  },
  {
   "cell_type": "code",
   "execution_count": 391,
   "metadata": {},
   "outputs": [],
   "source": [
    "preprocessor = ColumnTransformer(\n",
    "    transformers=[\n",
    "        ('num', num_transformer, num_cols),\n",
    "        ('ohe', ohe_transformer, ohe_cols),\n",
    "        ('freq', freq_transformer, freq_cols),\n",
    "        ('year', year_transformer, year_cols)],\n",
    "        remainder='passthrough')"
   ]
  },
  {
   "cell_type": "code",
   "execution_count": 392,
   "metadata": {},
   "outputs": [],
   "source": [
    "X_train, X_test, y_train, y_test = train_test_split(X, y, test_size=0.25, random_state=123)"
   ]
  },
  {
   "cell_type": "code",
   "execution_count": 393,
   "metadata": {},
   "outputs": [],
   "source": [
    "clf_rndf = Pipeline(steps=[('preprocessor', preprocessor),\n",
    "                         ('classifier', RandomForestClassifier(random_state=1234))])"
   ]
  },
  {
   "cell_type": "code",
   "execution_count": 394,
   "metadata": {},
   "outputs": [],
   "source": [
    "clf_rndf.fit(X_train, y_train);"
   ]
  },
  {
   "cell_type": "code",
   "execution_count": 395,
   "metadata": {},
   "outputs": [
    {
     "name": "stdout",
     "output_type": "stream",
     "text": [
      "                         precision    recall  f1-score   support\n",
      "\n",
      "             functional       0.93      0.97      0.95     20470\n",
      "functional needs repair       0.91      0.74      0.82      2750\n",
      "         non functional       0.95      0.93      0.94     14160\n",
      "\n",
      "               accuracy                           0.94     37380\n",
      "              macro avg       0.93      0.88      0.90     37380\n",
      "           weighted avg       0.94      0.94      0.94     37380\n",
      "\n",
      "                         precision    recall  f1-score   support\n",
      "\n",
      "             functional       0.80      0.87      0.83      6911\n",
      "functional needs repair       0.48      0.30      0.37       919\n",
      "         non functional       0.80      0.76      0.78      4631\n",
      "\n",
      "               accuracy                           0.78     12461\n",
      "              macro avg       0.69      0.64      0.66     12461\n",
      "           weighted avg       0.78      0.78      0.78     12461\n",
      "\n"
     ]
    }
   ],
   "source": [
    "train_preds = clf_rndf.predict(X_train)\n",
    "test_preds = clf_rndf.predict(X_test)\n",
    "\n",
    "print(classification_report(y_train, train_preds))\n",
    "print(classification_report(y_test, test_preds))"
   ]
  },
  {
   "cell_type": "code",
   "execution_count": 398,
   "metadata": {
    "scrolled": true
   },
   "outputs": [],
   "source": [
    "# random forest grid search\n",
    "param_grid = {\n",
    "    'classifier__n_estimators': [160, 190, 200, 210],\n",
    "    'classifier__max_depth': [20, 29, 35, 50, 60, 70],\n",
    "    'classifier__min_samples_split': [2, 4, 6],\n",
    "    'classifier__min_samples_leaf': [2, 3]\n",
    "}\n",
    "\n",
    "scoring_metrics = {'f1_weighted': 'f1_weighted',\n",
    "                   'accuracy': 'accuracy'}\n",
    "\n",
    "forest_GS = GridSearchCV(clf_rndf, param_grid, cv=3, scoring=scoring_metrics, refit='f1_weighted')\n",
    "forest_GS.fit(X_train, y_train);"
   ]
  },
  {
   "cell_type": "code",
   "execution_count": 399,
   "metadata": {},
   "outputs": [
    {
     "name": "stdout",
     "output_type": "stream",
     "text": [
      "                         precision    recall  f1-score   support\n",
      "\n",
      "             functional       0.82      0.96      0.89     20470\n",
      "functional needs repair       0.81      0.31      0.44      2750\n",
      "         non functional       0.91      0.81      0.86     14160\n",
      "\n",
      "               accuracy                           0.85     37380\n",
      "              macro avg       0.85      0.69      0.73     37380\n",
      "           weighted avg       0.86      0.85      0.84     37380\n",
      "\n",
      "                         precision    recall  f1-score   support\n",
      "\n",
      "             functional       0.78      0.91      0.84      6911\n",
      "functional needs repair       0.66      0.23      0.35       919\n",
      "         non functional       0.83      0.73      0.78      4631\n",
      "\n",
      "               accuracy                           0.80     12461\n",
      "              macro avg       0.76      0.63      0.66     12461\n",
      "           weighted avg       0.79      0.80      0.78     12461\n",
      "\n"
     ]
    }
   ],
   "source": [
    "# fifth grid search\n",
    "train_preds = forest_GS.predict(X_train)\n",
    "test_preds = forest_GS.predict(X_test)\n",
    "\n",
    "print(classification_report(y_train, train_preds))\n",
    "print(classification_report(y_test, test_preds))"
   ]
  },
  {
   "cell_type": "code",
   "execution_count": 400,
   "metadata": {},
   "outputs": [
    {
     "data": {
      "text/plain": [
       "{'classifier__max_depth': 60,\n",
       " 'classifier__min_samples_leaf': 2,\n",
       " 'classifier__min_samples_split': 2,\n",
       " 'classifier__n_estimators': 160}"
      ]
     },
     "execution_count": 400,
     "metadata": {},
     "output_type": "execute_result"
    }
   ],
   "source": [
    "# fifth grid search\n",
    "forest_GS.best_params_"
   ]
  },
  {
   "cell_type": "code",
   "execution_count": 254,
   "metadata": {},
   "outputs": [
    {
     "name": "stdout",
     "output_type": "stream",
     "text": [
      "                         precision    recall  f1-score   support\n",
      "\n",
      "             functional       0.84      0.96      0.90     20470\n",
      "functional needs repair       0.84      0.37      0.51      2750\n",
      "         non functional       0.91      0.84      0.87     14160\n",
      "\n",
      "               accuracy                           0.87     37380\n",
      "              macro avg       0.87      0.72      0.76     37380\n",
      "           weighted avg       0.87      0.87      0.86     37380\n",
      "\n",
      "                         precision    recall  f1-score   support\n",
      "\n",
      "             functional       0.79      0.90      0.84      6911\n",
      "functional needs repair       0.65      0.24      0.35       919\n",
      "         non functional       0.82      0.75      0.78      4631\n",
      "\n",
      "               accuracy                           0.80     12461\n",
      "              macro avg       0.75      0.63      0.66     12461\n",
      "           weighted avg       0.79      0.80      0.78     12461\n",
      "\n"
     ]
    }
   ],
   "source": [
    "# fifth grid search\n",
    "train_preds = forest_GS.predict(X_train)\n",
    "test_preds = forest_GS.predict(X_test)\n",
    "\n",
    "print(classification_report(y_train, train_preds))\n",
    "print(classification_report(y_test, test_preds))"
   ]
  },
  {
   "cell_type": "code",
   "execution_count": 255,
   "metadata": {},
   "outputs": [
    {
     "data": {
      "text/plain": [
       "{'classifier__max_depth': 50, 'classifier__n_estimators': 138}"
      ]
     },
     "execution_count": 255,
     "metadata": {},
     "output_type": "execute_result"
    }
   ],
   "source": [
    "# fifth grid search\n",
    "forest_GS.best_params_"
   ]
  },
  {
   "cell_type": "code",
   "execution_count": null,
   "metadata": {},
   "outputs": [],
   "source": []
  },
  {
   "cell_type": "code",
   "execution_count": null,
   "metadata": {},
   "outputs": [],
   "source": []
  },
  {
   "cell_type": "code",
   "execution_count": 57,
   "metadata": {},
   "outputs": [],
   "source": [
    "clf_knn = Pipeline(steps=[('preprocessor', preprocessor),\n",
    "                         ('knn', KNeighborsClassifier())])"
   ]
  },
  {
   "cell_type": "code",
   "execution_count": 58,
   "metadata": {},
   "outputs": [],
   "source": [
    "clf_knn.fit(X_train, y_train);"
   ]
  },
  {
   "cell_type": "code",
   "execution_count": 59,
   "metadata": {},
   "outputs": [
    {
     "name": "stdout",
     "output_type": "stream",
     "text": [
      "                         precision    recall  f1-score   support\n",
      "\n",
      "             functional       0.81      0.90      0.85     20470\n",
      "functional needs repair       0.58      0.36      0.44      2750\n",
      "         non functional       0.85      0.77      0.81     14160\n",
      "\n",
      "               accuracy                           0.81     37380\n",
      "              macro avg       0.74      0.68      0.70     37380\n",
      "           weighted avg       0.81      0.81      0.80     37380\n",
      "\n",
      "                         precision    recall  f1-score   support\n",
      "\n",
      "             functional       0.77      0.86      0.81      6911\n",
      "functional needs repair       0.46      0.29      0.36       919\n",
      "         non functional       0.77      0.71      0.74      4631\n",
      "\n",
      "               accuracy                           0.76     12461\n",
      "              macro avg       0.67      0.62      0.64     12461\n",
      "           weighted avg       0.75      0.76      0.75     12461\n",
      "\n"
     ]
    }
   ],
   "source": [
    "train_preds = clf_knn.predict(X_train)\n",
    "test_preds = clf_knn.predict(X_test)\n",
    "\n",
    "print(classification_report(y_train, train_preds))\n",
    "print(classification_report(y_test, test_preds))"
   ]
  },
  {
   "cell_type": "code",
   "execution_count": null,
   "metadata": {},
   "outputs": [],
   "source": []
  },
  {
   "cell_type": "markdown",
   "metadata": {},
   "source": [
    "## Below how to generate contest predictions"
   ]
  },
  {
   "cell_type": "code",
   "execution_count": null,
   "metadata": {},
   "outputs": [],
   "source": [
    "df_cont = pd.read_csv('data/test_values.csv')\n",
    "df_cont.head()"
   ]
  },
  {
   "cell_type": "code",
   "execution_count": null,
   "metadata": {},
   "outputs": [],
   "source": [
    "keep_columns = ['amount_tsh', 'gps_height', 'num_private', 'region', 'district_code', 'lga',\n",
    "                'public_meeting', 'scheme_management', 'permit', 'construction_year', 'extraction_type',\n",
    "                'management_group', 'water_quality', 'quantity', 'source', 'waterpoint_type', \n",
    "                'population']\n",
    "\n",
    "contest = df_cont[keep_columns]"
   ]
  },
  {
   "cell_type": "code",
   "execution_count": null,
   "metadata": {},
   "outputs": [],
   "source": [
    "contest['permit'].fillna(False, inplace=True)\n",
    "contest['public_meeting'].fillna(False, inplace=True)"
   ]
  },
  {
   "cell_type": "code",
   "execution_count": null,
   "metadata": {},
   "outputs": [],
   "source": [
    "cont_preds = forest_clf.predict(contest)"
   ]
  },
  {
   "cell_type": "code",
   "execution_count": null,
   "metadata": {},
   "outputs": [],
   "source": [
    "ids = np.array(df_cont['id'])"
   ]
  },
  {
   "cell_type": "code",
   "execution_count": null,
   "metadata": {},
   "outputs": [],
   "source": [
    "final = pd.DataFrame({'id': ids, 'status_group': cont_preds})\n",
    "final.head()"
   ]
  },
  {
   "cell_type": "code",
   "execution_count": null,
   "metadata": {},
   "outputs": [],
   "source": [
    "final.to_csv('name.csv', index=False)"
   ]
  },
  {
   "cell_type": "code",
   "execution_count": null,
   "metadata": {},
   "outputs": [],
   "source": []
  },
  {
   "cell_type": "code",
   "execution_count": null,
   "metadata": {},
   "outputs": [],
   "source": []
  }
 ],
 "metadata": {
  "kernelspec": {
   "display_name": "learn-env",
   "language": "python",
   "name": "learn-env"
  },
  "language_info": {
   "codemirror_mode": {
    "name": "ipython",
    "version": 3
   },
   "file_extension": ".py",
   "mimetype": "text/x-python",
   "name": "python",
   "nbconvert_exporter": "python",
   "pygments_lexer": "ipython3",
   "version": "3.8.8"
  }
 },
 "nbformat": 4,
 "nbformat_minor": 4
}
