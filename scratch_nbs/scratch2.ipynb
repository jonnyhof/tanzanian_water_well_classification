{
 "cells": [
  {
   "cell_type": "code",
   "execution_count": 1,
   "metadata": {},
   "outputs": [],
   "source": [
    "import numpy as np\n",
    "import pandas as pd\n",
    "import matplotlib.pyplot as plt\n",
    "\n",
    "from sklearn.feature_selection import mutual_info_classif, SelectKBest\n",
    "\n",
    "from category_encoders import LeaveOneOutEncoder\n",
    "from sklearn.preprocessing import LabelEncoder, OneHotEncoder\n",
    "from sklearn.impute import SimpleImputer\n",
    "from sklearn.compose import ColumnTransformer\n",
    "\n",
    "from sklearn.model_selection import train_test_split\n",
    "from sklearn.metrics import accuracy_score, confusion_matrix, classification_report, f1_score, roc_auc_score\n",
    "from sklearn.ensemble import RandomForestClassifier\n",
    "\n",
    "from sklearn.svm import SVC\n",
    "from sklearn.naive_bayes import GaussianNB\n",
    "from sklearn.neighbors import KNeighborsClassifier"
   ]
  },
  {
   "cell_type": "code",
   "execution_count": 32,
   "metadata": {},
   "outputs": [],
   "source": [
    "# import data\n",
    "dftrain = pd.read_csv('data/train_target.csv')\n",
    "dftest = pd.read_csv('data/train_values.csv')\n",
    "\n",
    "# merge on id\n",
    "df = pd.merge(dftrain, dftest, how='inner', on='id')\n",
    "\n",
    "# drop scheme name column because it is 50% NaNs - determined unimportant\n",
    "df.drop('scheme_name', axis=1, inplace=True)\n",
    "\n",
    "keep_columns = ['status_group', 'amount_tsh', 'gps_height', 'num_private', 'region', 'district_code', 'lga',\n",
    "                'public_meeting', 'scheme_management', 'permit', 'construction_year', 'extraction_type',\n",
    "                'management', 'management_group', 'water_quality', 'quantity', 'source', 'waterpoint_type', \n",
    "                'population']\n",
    "# 'ward', 'installer', 'funder', \n",
    "\n",
    "df = df[keep_columns]\n",
    "\n",
    "# now can drop NaNs without losing half the columns\n",
    "df.dropna(inplace=True)\n",
    "# note that funder, installer, public_meeting, scheme_management, permit still contain a couple thous NaNs \n",
    "\n",
    "# can now select X and y from cleaned data\n",
    "X = df.drop('status_group', axis=1)\n",
    "y = df['status_group']"
   ]
  },
  {
   "cell_type": "code",
   "execution_count": 33,
   "metadata": {
    "scrolled": true
   },
   "outputs": [
    {
     "data": {
      "text/plain": [
       "0         5\n",
       "2         4\n",
       "3        63\n",
       "5         8\n",
       "6         3\n",
       "         ..\n",
       "59395     5\n",
       "59396     4\n",
       "59397     7\n",
       "59398     4\n",
       "59399     2\n",
       "Name: district_code, Length: 49841, dtype: object"
      ]
     },
     "execution_count": 33,
     "metadata": {},
     "output_type": "execute_result"
    }
   ],
   "source": [
    "X['district_code'].astype('object')"
   ]
  },
  {
   "cell_type": "code",
   "execution_count": 34,
   "metadata": {},
   "outputs": [
    {
     "data": {
      "text/plain": [
       "count     49841.000000\n",
       "mean        352.215854\n",
       "std        2793.448736\n",
       "min           0.000000\n",
       "25%           0.000000\n",
       "50%           0.000000\n",
       "75%          30.000000\n",
       "max      250000.000000\n",
       "Name: amount_tsh, dtype: float64"
      ]
     },
     "execution_count": 34,
     "metadata": {},
     "output_type": "execute_result"
    }
   ],
   "source": [
    "X['amount_tsh'].describe()"
   ]
  },
  {
   "cell_type": "code",
   "execution_count": 35,
   "metadata": {},
   "outputs": [],
   "source": [
    "cont_columns = ['amount_tsh', 'gps_height', 'num_private', 'construction_year', 'population']\n",
    "\n",
    "\n",
    "loo_columns = ['region', 'district_code', 'lga', 'management', 'management_group',\n",
    "               'water_quality', 'quantity', 'source', 'waterpoint_type', 'scheme_management', 'extraction_type']\n",
    "\n",
    "# test without\n",
    "# 'funder', 'ward', 'installer', \n",
    "\n",
    "binary_columns = ['public_meeting', 'permit']"
   ]
  },
  {
   "cell_type": "code",
   "execution_count": 36,
   "metadata": {},
   "outputs": [
    {
     "ename": "KeyError",
     "evalue": "'installer'",
     "output_type": "error",
     "traceback": [
      "\u001b[0;31m---------------------------------------------------------------------------\u001b[0m",
      "\u001b[0;31mKeyError\u001b[0m                                  Traceback (most recent call last)",
      "\u001b[0;32m/Applications/anaconda3/envs/learn-env/lib/python3.8/site-packages/pandas/core/indexes/base.py\u001b[0m in \u001b[0;36mget_loc\u001b[0;34m(self, key, method, tolerance)\u001b[0m\n\u001b[1;32m   2894\u001b[0m             \u001b[0;32mtry\u001b[0m\u001b[0;34m:\u001b[0m\u001b[0;34m\u001b[0m\u001b[0;34m\u001b[0m\u001b[0m\n\u001b[0;32m-> 2895\u001b[0;31m                 \u001b[0;32mreturn\u001b[0m \u001b[0mself\u001b[0m\u001b[0;34m.\u001b[0m\u001b[0m_engine\u001b[0m\u001b[0;34m.\u001b[0m\u001b[0mget_loc\u001b[0m\u001b[0;34m(\u001b[0m\u001b[0mcasted_key\u001b[0m\u001b[0;34m)\u001b[0m\u001b[0;34m\u001b[0m\u001b[0;34m\u001b[0m\u001b[0m\n\u001b[0m\u001b[1;32m   2896\u001b[0m             \u001b[0;32mexcept\u001b[0m \u001b[0mKeyError\u001b[0m \u001b[0;32mas\u001b[0m \u001b[0merr\u001b[0m\u001b[0;34m:\u001b[0m\u001b[0;34m\u001b[0m\u001b[0;34m\u001b[0m\u001b[0m\n",
      "\u001b[0;32mpandas/_libs/index.pyx\u001b[0m in \u001b[0;36mpandas._libs.index.IndexEngine.get_loc\u001b[0;34m()\u001b[0m\n",
      "\u001b[0;32mpandas/_libs/index.pyx\u001b[0m in \u001b[0;36mpandas._libs.index.IndexEngine.get_loc\u001b[0;34m()\u001b[0m\n",
      "\u001b[0;32mpandas/_libs/hashtable_class_helper.pxi\u001b[0m in \u001b[0;36mpandas._libs.hashtable.PyObjectHashTable.get_item\u001b[0;34m()\u001b[0m\n",
      "\u001b[0;32mpandas/_libs/hashtable_class_helper.pxi\u001b[0m in \u001b[0;36mpandas._libs.hashtable.PyObjectHashTable.get_item\u001b[0;34m()\u001b[0m\n",
      "\u001b[0;31mKeyError\u001b[0m: 'installer'",
      "\nThe above exception was the direct cause of the following exception:\n",
      "\u001b[0;31mKeyError\u001b[0m                                  Traceback (most recent call last)",
      "\u001b[0;32m<ipython-input-36-de19b850314a>\u001b[0m in \u001b[0;36m<module>\u001b[0;34m\u001b[0m\n\u001b[0;32m----> 1\u001b[0;31m \u001b[0mX\u001b[0m\u001b[0;34m[\u001b[0m\u001b[0;34m'installer'\u001b[0m\u001b[0;34m]\u001b[0m\u001b[0;34m.\u001b[0m\u001b[0mvalue_counts\u001b[0m\u001b[0;34m(\u001b[0m\u001b[0;34m)\u001b[0m\u001b[0;34m\u001b[0m\u001b[0;34m\u001b[0m\u001b[0m\n\u001b[0m",
      "\u001b[0;32m/Applications/anaconda3/envs/learn-env/lib/python3.8/site-packages/pandas/core/frame.py\u001b[0m in \u001b[0;36m__getitem__\u001b[0;34m(self, key)\u001b[0m\n\u001b[1;32m   2900\u001b[0m             \u001b[0;32mif\u001b[0m \u001b[0mself\u001b[0m\u001b[0;34m.\u001b[0m\u001b[0mcolumns\u001b[0m\u001b[0;34m.\u001b[0m\u001b[0mnlevels\u001b[0m \u001b[0;34m>\u001b[0m \u001b[0;36m1\u001b[0m\u001b[0;34m:\u001b[0m\u001b[0;34m\u001b[0m\u001b[0;34m\u001b[0m\u001b[0m\n\u001b[1;32m   2901\u001b[0m                 \u001b[0;32mreturn\u001b[0m \u001b[0mself\u001b[0m\u001b[0;34m.\u001b[0m\u001b[0m_getitem_multilevel\u001b[0m\u001b[0;34m(\u001b[0m\u001b[0mkey\u001b[0m\u001b[0;34m)\u001b[0m\u001b[0;34m\u001b[0m\u001b[0;34m\u001b[0m\u001b[0m\n\u001b[0;32m-> 2902\u001b[0;31m             \u001b[0mindexer\u001b[0m \u001b[0;34m=\u001b[0m \u001b[0mself\u001b[0m\u001b[0;34m.\u001b[0m\u001b[0mcolumns\u001b[0m\u001b[0;34m.\u001b[0m\u001b[0mget_loc\u001b[0m\u001b[0;34m(\u001b[0m\u001b[0mkey\u001b[0m\u001b[0;34m)\u001b[0m\u001b[0;34m\u001b[0m\u001b[0;34m\u001b[0m\u001b[0m\n\u001b[0m\u001b[1;32m   2903\u001b[0m             \u001b[0;32mif\u001b[0m \u001b[0mis_integer\u001b[0m\u001b[0;34m(\u001b[0m\u001b[0mindexer\u001b[0m\u001b[0;34m)\u001b[0m\u001b[0;34m:\u001b[0m\u001b[0;34m\u001b[0m\u001b[0;34m\u001b[0m\u001b[0m\n\u001b[1;32m   2904\u001b[0m                 \u001b[0mindexer\u001b[0m \u001b[0;34m=\u001b[0m \u001b[0;34m[\u001b[0m\u001b[0mindexer\u001b[0m\u001b[0;34m]\u001b[0m\u001b[0;34m\u001b[0m\u001b[0;34m\u001b[0m\u001b[0m\n",
      "\u001b[0;32m/Applications/anaconda3/envs/learn-env/lib/python3.8/site-packages/pandas/core/indexes/base.py\u001b[0m in \u001b[0;36mget_loc\u001b[0;34m(self, key, method, tolerance)\u001b[0m\n\u001b[1;32m   2895\u001b[0m                 \u001b[0;32mreturn\u001b[0m \u001b[0mself\u001b[0m\u001b[0;34m.\u001b[0m\u001b[0m_engine\u001b[0m\u001b[0;34m.\u001b[0m\u001b[0mget_loc\u001b[0m\u001b[0;34m(\u001b[0m\u001b[0mcasted_key\u001b[0m\u001b[0;34m)\u001b[0m\u001b[0;34m\u001b[0m\u001b[0;34m\u001b[0m\u001b[0m\n\u001b[1;32m   2896\u001b[0m             \u001b[0;32mexcept\u001b[0m \u001b[0mKeyError\u001b[0m \u001b[0;32mas\u001b[0m \u001b[0merr\u001b[0m\u001b[0;34m:\u001b[0m\u001b[0;34m\u001b[0m\u001b[0;34m\u001b[0m\u001b[0m\n\u001b[0;32m-> 2897\u001b[0;31m                 \u001b[0;32mraise\u001b[0m \u001b[0mKeyError\u001b[0m\u001b[0;34m(\u001b[0m\u001b[0mkey\u001b[0m\u001b[0;34m)\u001b[0m \u001b[0;32mfrom\u001b[0m \u001b[0merr\u001b[0m\u001b[0;34m\u001b[0m\u001b[0;34m\u001b[0m\u001b[0m\n\u001b[0m\u001b[1;32m   2898\u001b[0m \u001b[0;34m\u001b[0m\u001b[0m\n\u001b[1;32m   2899\u001b[0m         \u001b[0;32mif\u001b[0m \u001b[0mtolerance\u001b[0m \u001b[0;32mis\u001b[0m \u001b[0;32mnot\u001b[0m \u001b[0;32mNone\u001b[0m\u001b[0;34m:\u001b[0m\u001b[0;34m\u001b[0m\u001b[0;34m\u001b[0m\u001b[0m\n",
      "\u001b[0;31mKeyError\u001b[0m: 'installer'"
     ]
    }
   ],
   "source": [
    "X['installer'].value_counts()"
   ]
  },
  {
   "cell_type": "code",
   "execution_count": 37,
   "metadata": {},
   "outputs": [],
   "source": [
    "dummies = pd.get_dummies(X, columns = loo_columns, drop_first=True)"
   ]
  },
  {
   "cell_type": "code",
   "execution_count": 38,
   "metadata": {},
   "outputs": [
    {
     "data": {
      "text/html": [
       "<div>\n",
       "<style scoped>\n",
       "    .dataframe tbody tr th:only-of-type {\n",
       "        vertical-align: middle;\n",
       "    }\n",
       "\n",
       "    .dataframe tbody tr th {\n",
       "        vertical-align: top;\n",
       "    }\n",
       "\n",
       "    .dataframe thead th {\n",
       "        text-align: right;\n",
       "    }\n",
       "</style>\n",
       "<table border=\"1\" class=\"dataframe\">\n",
       "  <thead>\n",
       "    <tr style=\"text-align: right;\">\n",
       "      <th></th>\n",
       "      <th>amount_tsh</th>\n",
       "      <th>gps_height</th>\n",
       "      <th>num_private</th>\n",
       "      <th>public_meeting</th>\n",
       "      <th>permit</th>\n",
       "      <th>construction_year</th>\n",
       "      <th>region_Dar es Salaam</th>\n",
       "      <th>region_Dodoma</th>\n",
       "      <th>region_Iringa</th>\n",
       "      <th>region_Kagera</th>\n",
       "      <th>...</th>\n",
       "      <th>extraction_type_nira/tanira</th>\n",
       "      <th>extraction_type_other</th>\n",
       "      <th>extraction_type_other - mkulima/shinyanga</th>\n",
       "      <th>extraction_type_other - play pump</th>\n",
       "      <th>extraction_type_other - rope pump</th>\n",
       "      <th>extraction_type_other - swn 81</th>\n",
       "      <th>extraction_type_submersible</th>\n",
       "      <th>extraction_type_swn 80</th>\n",
       "      <th>extraction_type_walimi</th>\n",
       "      <th>extraction_type_windmill</th>\n",
       "    </tr>\n",
       "  </thead>\n",
       "  <tbody>\n",
       "    <tr>\n",
       "      <th>0</th>\n",
       "      <td>6000.0</td>\n",
       "      <td>1390</td>\n",
       "      <td>0</td>\n",
       "      <td>True</td>\n",
       "      <td>False</td>\n",
       "      <td>1999</td>\n",
       "      <td>0</td>\n",
       "      <td>0</td>\n",
       "      <td>1</td>\n",
       "      <td>0</td>\n",
       "      <td>...</td>\n",
       "      <td>0</td>\n",
       "      <td>0</td>\n",
       "      <td>0</td>\n",
       "      <td>0</td>\n",
       "      <td>0</td>\n",
       "      <td>0</td>\n",
       "      <td>0</td>\n",
       "      <td>0</td>\n",
       "      <td>0</td>\n",
       "      <td>0</td>\n",
       "    </tr>\n",
       "    <tr>\n",
       "      <th>2</th>\n",
       "      <td>25.0</td>\n",
       "      <td>686</td>\n",
       "      <td>0</td>\n",
       "      <td>True</td>\n",
       "      <td>True</td>\n",
       "      <td>2009</td>\n",
       "      <td>0</td>\n",
       "      <td>0</td>\n",
       "      <td>0</td>\n",
       "      <td>0</td>\n",
       "      <td>...</td>\n",
       "      <td>0</td>\n",
       "      <td>0</td>\n",
       "      <td>0</td>\n",
       "      <td>0</td>\n",
       "      <td>0</td>\n",
       "      <td>0</td>\n",
       "      <td>0</td>\n",
       "      <td>0</td>\n",
       "      <td>0</td>\n",
       "      <td>0</td>\n",
       "    </tr>\n",
       "    <tr>\n",
       "      <th>3</th>\n",
       "      <td>0.0</td>\n",
       "      <td>263</td>\n",
       "      <td>0</td>\n",
       "      <td>True</td>\n",
       "      <td>True</td>\n",
       "      <td>1986</td>\n",
       "      <td>0</td>\n",
       "      <td>0</td>\n",
       "      <td>0</td>\n",
       "      <td>0</td>\n",
       "      <td>...</td>\n",
       "      <td>0</td>\n",
       "      <td>0</td>\n",
       "      <td>0</td>\n",
       "      <td>0</td>\n",
       "      <td>0</td>\n",
       "      <td>0</td>\n",
       "      <td>1</td>\n",
       "      <td>0</td>\n",
       "      <td>0</td>\n",
       "      <td>0</td>\n",
       "    </tr>\n",
       "    <tr>\n",
       "      <th>5</th>\n",
       "      <td>20.0</td>\n",
       "      <td>0</td>\n",
       "      <td>0</td>\n",
       "      <td>True</td>\n",
       "      <td>True</td>\n",
       "      <td>2009</td>\n",
       "      <td>0</td>\n",
       "      <td>0</td>\n",
       "      <td>0</td>\n",
       "      <td>0</td>\n",
       "      <td>...</td>\n",
       "      <td>0</td>\n",
       "      <td>0</td>\n",
       "      <td>0</td>\n",
       "      <td>0</td>\n",
       "      <td>0</td>\n",
       "      <td>0</td>\n",
       "      <td>1</td>\n",
       "      <td>0</td>\n",
       "      <td>0</td>\n",
       "      <td>0</td>\n",
       "    </tr>\n",
       "    <tr>\n",
       "      <th>6</th>\n",
       "      <td>0.0</td>\n",
       "      <td>0</td>\n",
       "      <td>0</td>\n",
       "      <td>True</td>\n",
       "      <td>True</td>\n",
       "      <td>0</td>\n",
       "      <td>0</td>\n",
       "      <td>0</td>\n",
       "      <td>0</td>\n",
       "      <td>0</td>\n",
       "      <td>...</td>\n",
       "      <td>0</td>\n",
       "      <td>0</td>\n",
       "      <td>0</td>\n",
       "      <td>0</td>\n",
       "      <td>0</td>\n",
       "      <td>0</td>\n",
       "      <td>0</td>\n",
       "      <td>1</td>\n",
       "      <td>0</td>\n",
       "      <td>0</td>\n",
       "    </tr>\n",
       "  </tbody>\n",
       "</table>\n",
       "<p>5 rows × 234 columns</p>\n",
       "</div>"
      ],
      "text/plain": [
       "   amount_tsh  gps_height  num_private public_meeting permit  \\\n",
       "0      6000.0        1390            0           True  False   \n",
       "2        25.0         686            0           True   True   \n",
       "3         0.0         263            0           True   True   \n",
       "5        20.0           0            0           True   True   \n",
       "6         0.0           0            0           True   True   \n",
       "\n",
       "   construction_year  region_Dar es Salaam  region_Dodoma  region_Iringa  \\\n",
       "0               1999                     0              0              1   \n",
       "2               2009                     0              0              0   \n",
       "3               1986                     0              0              0   \n",
       "5               2009                     0              0              0   \n",
       "6                  0                     0              0              0   \n",
       "\n",
       "   region_Kagera  ...  extraction_type_nira/tanira  extraction_type_other  \\\n",
       "0              0  ...                            0                      0   \n",
       "2              0  ...                            0                      0   \n",
       "3              0  ...                            0                      0   \n",
       "5              0  ...                            0                      0   \n",
       "6              0  ...                            0                      0   \n",
       "\n",
       "   extraction_type_other - mkulima/shinyanga  \\\n",
       "0                                          0   \n",
       "2                                          0   \n",
       "3                                          0   \n",
       "5                                          0   \n",
       "6                                          0   \n",
       "\n",
       "   extraction_type_other - play pump  extraction_type_other - rope pump  \\\n",
       "0                                  0                                  0   \n",
       "2                                  0                                  0   \n",
       "3                                  0                                  0   \n",
       "5                                  0                                  0   \n",
       "6                                  0                                  0   \n",
       "\n",
       "   extraction_type_other - swn 81  extraction_type_submersible  \\\n",
       "0                               0                            0   \n",
       "2                               0                            0   \n",
       "3                               0                            1   \n",
       "5                               0                            1   \n",
       "6                               0                            0   \n",
       "\n",
       "   extraction_type_swn 80  extraction_type_walimi  extraction_type_windmill  \n",
       "0                       0                       0                         0  \n",
       "2                       0                       0                         0  \n",
       "3                       0                       0                         0  \n",
       "5                       0                       0                         0  \n",
       "6                       1                       0                         0  \n",
       "\n",
       "[5 rows x 234 columns]"
      ]
     },
     "execution_count": 38,
     "metadata": {},
     "output_type": "execute_result"
    }
   ],
   "source": [
    "dummies.head()"
   ]
  },
  {
   "cell_type": "code",
   "execution_count": 39,
   "metadata": {},
   "outputs": [],
   "source": [
    "X_train, X_test, y_train, y_test = train_test_split(dummies, y, test_size=0.25, random_state=123)"
   ]
  },
  {
   "cell_type": "code",
   "execution_count": 40,
   "metadata": {},
   "outputs": [],
   "source": [
    "imputer = SimpleImputer(missing_values=0, strategy='median')\n",
    "column_imputer = ColumnTransformer([('med_imputer', imputer, ['construction_year'])])\n",
    "\n",
    "X_train_year_imp = column_imputer.fit_transform(X_train)\n",
    "X_test_year_imp = column_imputer.transform(X_test)"
   ]
  },
  {
   "cell_type": "code",
   "execution_count": 41,
   "metadata": {},
   "outputs": [
    {
     "name": "stderr",
     "output_type": "stream",
     "text": [
      "<ipython-input-41-6bd855c41ea4>:1: SettingWithCopyWarning: \n",
      "A value is trying to be set on a copy of a slice from a DataFrame.\n",
      "Try using .loc[row_indexer,col_indexer] = value instead\n",
      "\n",
      "See the caveats in the documentation: https://pandas.pydata.org/pandas-docs/stable/user_guide/indexing.html#returning-a-view-versus-a-copy\n",
      "  X_train['construction_year'] = X_train_year_imp\n",
      "<ipython-input-41-6bd855c41ea4>:2: SettingWithCopyWarning: \n",
      "A value is trying to be set on a copy of a slice from a DataFrame.\n",
      "Try using .loc[row_indexer,col_indexer] = value instead\n",
      "\n",
      "See the caveats in the documentation: https://pandas.pydata.org/pandas-docs/stable/user_guide/indexing.html#returning-a-view-versus-a-copy\n",
      "  X_test['construction_year'] = X_test_year_imp\n"
     ]
    }
   ],
   "source": [
    "X_train['construction_year'] = X_train_year_imp\n",
    "X_test['construction_year'] = X_test_year_imp"
   ]
  },
  {
   "cell_type": "code",
   "execution_count": 10,
   "metadata": {},
   "outputs": [
    {
     "name": "stderr",
     "output_type": "stream",
     "text": [
      "/Applications/anaconda3/envs/learn-env/lib/python3.8/site-packages/category_encoders/utils.py:21: FutureWarning: is_categorical is deprecated and will be removed in a future version.  Use is_categorical_dtype instead\n",
      "  elif pd.api.types.is_categorical(cols):\n"
     ]
    }
   ],
   "source": [
    "# LeaveOneOut encoding, trying against OHE\n",
    "\n",
    "lab_enc = LabelEncoder()\n",
    "y_train_enc = lab_enc.fit_transform(y_train)\n",
    "\n",
    "loo_enc = LeaveOneOutEncoder(cols = loo_columns)\n",
    "X_train_enc = loo_enc.fit_transform(X_train, y_train_enc)\n",
    "X_test_enc = loo_enc.transform(X_test)"
   ]
  },
  {
   "cell_type": "code",
   "execution_count": 42,
   "metadata": {},
   "outputs": [
    {
     "name": "stdout",
     "output_type": "stream",
     "text": [
      "                         precision    recall  f1-score   support\n",
      "\n",
      "             functional       0.92      0.97      0.95     20470\n",
      "functional needs repair       0.90      0.74      0.81      2750\n",
      "         non functional       0.96      0.92      0.94     14160\n",
      "\n",
      "               accuracy                           0.93     37380\n",
      "              macro avg       0.93      0.88      0.90     37380\n",
      "           weighted avg       0.93      0.93      0.93     37380\n",
      "\n",
      "                         precision    recall  f1-score   support\n",
      "\n",
      "             functional       0.80      0.84      0.82      6911\n",
      "functional needs repair       0.44      0.32      0.37       919\n",
      "         non functional       0.78      0.76      0.77      4631\n",
      "\n",
      "               accuracy                           0.77     12461\n",
      "              macro avg       0.67      0.64      0.65     12461\n",
      "           weighted avg       0.77      0.77      0.77     12461\n",
      "\n"
     ]
    }
   ],
   "source": [
    "forest = RandomForestClassifier(n_estimators=200)\n",
    "forest.fit(X_train, y_train)\n",
    "\n",
    "train_preds = forest.predict(X_train)\n",
    "test_preds = forest.predict(X_test)\n",
    "\n",
    "print(classification_report(y_train, train_preds))\n",
    "print(classification_report(y_test, test_preds))"
   ]
  },
  {
   "cell_type": "code",
   "execution_count": null,
   "metadata": {},
   "outputs": [],
   "source": []
  },
  {
   "cell_type": "code",
   "execution_count": null,
   "metadata": {
    "scrolled": true
   },
   "outputs": [],
   "source": []
  },
  {
   "cell_type": "code",
   "execution_count": 43,
   "metadata": {},
   "outputs": [
    {
     "name": "stdout",
     "output_type": "stream",
     "text": [
      "                         precision    recall  f1-score   support\n",
      "\n",
      "             functional       0.97      0.91      0.93     20470\n",
      "functional needs repair       0.55      0.95      0.70      2750\n",
      "         non functional       0.96      0.91      0.94     14160\n",
      "\n",
      "               accuracy                           0.91     37380\n",
      "              macro avg       0.83      0.92      0.86     37380\n",
      "           weighted avg       0.93      0.91      0.92     37380\n",
      "\n",
      "                         precision    recall  f1-score   support\n",
      "\n",
      "             functional       0.82      0.78      0.80      6911\n",
      "functional needs repair       0.32      0.49      0.39       919\n",
      "         non functional       0.78      0.76      0.77      4631\n",
      "\n",
      "               accuracy                           0.75     12461\n",
      "              macro avg       0.64      0.68      0.65     12461\n",
      "           weighted avg       0.77      0.75      0.76     12461\n",
      "\n"
     ]
    }
   ],
   "source": [
    "forest = RandomForestClassifier(class_weight='balanced')\n",
    "forest.fit(X_train, y_train)\n",
    "\n",
    "train_preds = forest.predict(X_train)\n",
    "test_preds = forest.predict(X_test)\n",
    "\n",
    "print(classification_report(y_train, train_preds))\n",
    "print(classification_report(y_test, test_preds))"
   ]
  },
  {
   "cell_type": "code",
   "execution_count": null,
   "metadata": {},
   "outputs": [],
   "source": []
  },
  {
   "cell_type": "code",
   "execution_count": 70,
   "metadata": {},
   "outputs": [
    {
     "name": "stdout",
     "output_type": "stream",
     "text": [
      "                         precision    recall  f1-score   support\n",
      "\n",
      "             functional       0.83      0.38      0.52     20000\n",
      "functional needs repair       0.14      0.93      0.24      2639\n",
      "         non functional       0.67      0.46      0.54     13849\n",
      "\n",
      "               accuracy                           0.45     36488\n",
      "              macro avg       0.54      0.59      0.43     36488\n",
      "           weighted avg       0.72      0.45      0.51     36488\n",
      "\n",
      "                         precision    recall  f1-score   support\n",
      "\n",
      "             functional       0.82      0.37      0.51      6720\n",
      "functional needs repair       0.13      0.90      0.22       860\n",
      "         non functional       0.64      0.43      0.52      4583\n",
      "\n",
      "               accuracy                           0.43     12163\n",
      "              macro avg       0.53      0.57      0.42     12163\n",
      "           weighted avg       0.70      0.43      0.49     12163\n",
      "\n"
     ]
    }
   ],
   "source": [
    "gnb = GaussianNB()\n",
    "gnb.fit(X_train, y_train)\n",
    "\n",
    "train_preds = gnb.predict(X_train)\n",
    "test_preds = gnb.predict(X_test)\n",
    "\n",
    "print(classification_report(y_train, train_preds))\n",
    "print(classification_report(y_test, test_preds))"
   ]
  },
  {
   "cell_type": "code",
   "execution_count": null,
   "metadata": {},
   "outputs": [],
   "source": []
  },
  {
   "cell_type": "code",
   "execution_count": 71,
   "metadata": {},
   "outputs": [
    {
     "name": "stdout",
     "output_type": "stream",
     "text": [
      "                         precision    recall  f1-score   support\n",
      "\n",
      "             functional       0.78      0.90      0.83     20000\n",
      "functional needs repair       0.65      0.38      0.48      2639\n",
      "         non functional       0.82      0.72      0.77     13849\n",
      "\n",
      "               accuracy                           0.79     36488\n",
      "              macro avg       0.75      0.66      0.69     36488\n",
      "           weighted avg       0.79      0.79      0.78     36488\n",
      "\n",
      "                         precision    recall  f1-score   support\n",
      "\n",
      "             functional       0.72      0.83      0.77      6720\n",
      "functional needs repair       0.46      0.25      0.33       860\n",
      "         non functional       0.71      0.62      0.66      4583\n",
      "\n",
      "               accuracy                           0.71     12163\n",
      "              macro avg       0.63      0.57      0.59     12163\n",
      "           weighted avg       0.70      0.71      0.70     12163\n",
      "\n"
     ]
    }
   ],
   "source": [
    "knn = KNeighborsClassifier()\n",
    "knn.fit(X_train, y_train)\n",
    "\n",
    "train_preds = knn.predict(X_train)\n",
    "test_preds = knn.predict(X_test)\n",
    "\n",
    "print(classification_report(y_train, train_preds))\n",
    "print(classification_report(y_test, test_preds))"
   ]
  },
  {
   "cell_type": "code",
   "execution_count": 45,
   "metadata": {},
   "outputs": [],
   "source": [
    "from xgboost import XGBClassifier"
   ]
  },
  {
   "cell_type": "code",
   "execution_count": 46,
   "metadata": {},
   "outputs": [
    {
     "name": "stderr",
     "output_type": "stream",
     "text": [
      "<ipython-input-46-0dbe0aba76ac>:1: SettingWithCopyWarning: \n",
      "A value is trying to be set on a copy of a slice from a DataFrame.\n",
      "Try using .loc[row_indexer,col_indexer] = value instead\n",
      "\n",
      "See the caveats in the documentation: https://pandas.pydata.org/pandas-docs/stable/user_guide/indexing.html#returning-a-view-versus-a-copy\n",
      "  X_train['public_meeting_bool'] = None\n",
      "<ipython-input-46-0dbe0aba76ac>:2: SettingWithCopyWarning: \n",
      "A value is trying to be set on a copy of a slice from a DataFrame.\n",
      "Try using .loc[row_indexer,col_indexer] = value instead\n",
      "\n",
      "See the caveats in the documentation: https://pandas.pydata.org/pandas-docs/stable/user_guide/indexing.html#returning-a-view-versus-a-copy\n",
      "  X_test['public_meeting_bool'] = None\n",
      "<ipython-input-46-0dbe0aba76ac>:4: SettingWithCopyWarning: \n",
      "A value is trying to be set on a copy of a slice from a DataFrame.\n",
      "Try using .loc[row_indexer,col_indexer] = value instead\n",
      "\n",
      "See the caveats in the documentation: https://pandas.pydata.org/pandas-docs/stable/user_guide/indexing.html#returning-a-view-versus-a-copy\n",
      "  X_train['public_meeting_bool'] = X_train['public_meeting'].map(lambda x: 1 if x == True else 0)\n",
      "<ipython-input-46-0dbe0aba76ac>:5: SettingWithCopyWarning: \n",
      "A value is trying to be set on a copy of a slice from a DataFrame.\n",
      "Try using .loc[row_indexer,col_indexer] = value instead\n",
      "\n",
      "See the caveats in the documentation: https://pandas.pydata.org/pandas-docs/stable/user_guide/indexing.html#returning-a-view-versus-a-copy\n",
      "  X_test['public_meeting_bool'] = X_test['public_meeting'].map(lambda x: 1 if x == True else 0)\n",
      "/Applications/anaconda3/envs/learn-env/lib/python3.8/site-packages/pandas/core/frame.py:4163: SettingWithCopyWarning: \n",
      "A value is trying to be set on a copy of a slice from a DataFrame\n",
      "\n",
      "See the caveats in the documentation: https://pandas.pydata.org/pandas-docs/stable/user_guide/indexing.html#returning-a-view-versus-a-copy\n",
      "  return super().drop(\n",
      "<ipython-input-46-0dbe0aba76ac>:11: SettingWithCopyWarning: \n",
      "A value is trying to be set on a copy of a slice from a DataFrame.\n",
      "Try using .loc[row_indexer,col_indexer] = value instead\n",
      "\n",
      "See the caveats in the documentation: https://pandas.pydata.org/pandas-docs/stable/user_guide/indexing.html#returning-a-view-versus-a-copy\n",
      "  X_train['permit_bool'] = None\n",
      "<ipython-input-46-0dbe0aba76ac>:12: SettingWithCopyWarning: \n",
      "A value is trying to be set on a copy of a slice from a DataFrame.\n",
      "Try using .loc[row_indexer,col_indexer] = value instead\n",
      "\n",
      "See the caveats in the documentation: https://pandas.pydata.org/pandas-docs/stable/user_guide/indexing.html#returning-a-view-versus-a-copy\n",
      "  X_test['permit_bool'] = None\n",
      "<ipython-input-46-0dbe0aba76ac>:14: SettingWithCopyWarning: \n",
      "A value is trying to be set on a copy of a slice from a DataFrame.\n",
      "Try using .loc[row_indexer,col_indexer] = value instead\n",
      "\n",
      "See the caveats in the documentation: https://pandas.pydata.org/pandas-docs/stable/user_guide/indexing.html#returning-a-view-versus-a-copy\n",
      "  X_train['permit_bool'] = X_train['permit'].map(lambda x: 1 if x == True else 0)\n",
      "<ipython-input-46-0dbe0aba76ac>:15: SettingWithCopyWarning: \n",
      "A value is trying to be set on a copy of a slice from a DataFrame.\n",
      "Try using .loc[row_indexer,col_indexer] = value instead\n",
      "\n",
      "See the caveats in the documentation: https://pandas.pydata.org/pandas-docs/stable/user_guide/indexing.html#returning-a-view-versus-a-copy\n",
      "  X_test['permit_bool'] = X_test['permit'].map(lambda x: 1 if x == True else 0)\n"
     ]
    }
   ],
   "source": [
    "X_train['public_meeting_bool'] = None\n",
    "X_test['public_meeting_bool'] = None\n",
    "\n",
    "X_train['public_meeting_bool'] = X_train['public_meeting'].map(lambda x: 1 if x == True else 0)\n",
    "X_test['public_meeting_bool'] = X_test['public_meeting'].map(lambda x: 1 if x == True else 0)\n",
    "\n",
    "X_train.drop('public_meeting', axis=1, inplace=True)\n",
    "X_test.drop('public_meeting', axis=1, inplace=True)\n",
    "\n",
    "\n",
    "X_train['permit_bool'] = None\n",
    "X_test['permit_bool'] = None\n",
    "\n",
    "X_train['permit_bool'] = X_train['permit'].map(lambda x: 1 if x == True else 0)\n",
    "X_test['permit_bool'] = X_test['permit'].map(lambda x: 1 if x == True else 0)\n",
    "\n",
    "X_train.drop('permit', axis=1, inplace=True)\n",
    "X_test.drop('permit', axis=1, inplace=True)"
   ]
  },
  {
   "cell_type": "code",
   "execution_count": 31,
   "metadata": {},
   "outputs": [
    {
     "data": {
      "text/plain": [
       "1    19446\n",
       "0     1413\n",
       "Name: public_meeting_bool, dtype: int64"
      ]
     },
     "execution_count": 31,
     "metadata": {},
     "output_type": "execute_result"
    }
   ],
   "source": [
    "X_train['public_meeting_bool'].value_counts()"
   ]
  },
  {
   "cell_type": "code",
   "execution_count": 54,
   "metadata": {},
   "outputs": [
    {
     "name": "stderr",
     "output_type": "stream",
     "text": [
      "/Applications/anaconda3/envs/learn-env/lib/python3.8/site-packages/pandas/core/frame.py:4296: SettingWithCopyWarning: \n",
      "A value is trying to be set on a copy of a slice from a DataFrame\n",
      "\n",
      "See the caveats in the documentation: https://pandas.pydata.org/pandas-docs/stable/user_guide/indexing.html#returning-a-view-versus-a-copy\n",
      "  return super().rename(\n"
     ]
    }
   ],
   "source": [
    "## need to rename columns so they dont have shit in them\n",
    "\n",
    "for x in [',', ' ', '[', ']', '<']:\n",
    "    X_train.rename(lambda c: c.replace(x, \"\"), axis='columns', inplace=True)\n",
    "    X_test.rename(lambda c: c.replace(x, \"\"), axis='columns', inplace=True)"
   ]
  },
  {
   "cell_type": "code",
   "execution_count": 47,
   "metadata": {},
   "outputs": [
    {
     "name": "stdout",
     "output_type": "stream",
     "text": [
      "                         precision    recall  f1-score   support\n",
      "\n",
      "             functional       0.79      0.93      0.85     20470\n",
      "functional needs repair       0.71      0.24      0.36      2750\n",
      "         non functional       0.87      0.74      0.80     14160\n",
      "\n",
      "               accuracy                           0.81     37380\n",
      "              macro avg       0.79      0.64      0.67     37380\n",
      "           weighted avg       0.81      0.81      0.80     37380\n",
      "\n",
      "                         precision    recall  f1-score   support\n",
      "\n",
      "             functional       0.77      0.91      0.84      6911\n",
      "functional needs repair       0.63      0.21      0.31       919\n",
      "         non functional       0.82      0.72      0.76      4631\n",
      "\n",
      "               accuracy                           0.78     12461\n",
      "              macro avg       0.74      0.61      0.64     12461\n",
      "           weighted avg       0.78      0.78      0.77     12461\n",
      "\n"
     ]
    }
   ],
   "source": [
    "xgb = XGBClassifier()\n",
    "xgb.fit(X_train, y_train)\n",
    "\n",
    "train_preds = xgb.predict(X_train)\n",
    "test_preds = xgb.predict(X_test)\n",
    "\n",
    "print(classification_report(y_train, train_preds))\n",
    "print(classification_report(y_test, test_preds))"
   ]
  },
  {
   "cell_type": "code",
   "execution_count": null,
   "metadata": {},
   "outputs": [],
   "source": []
  },
  {
   "cell_type": "code",
   "execution_count": null,
   "metadata": {},
   "outputs": [],
   "source": []
  },
  {
   "cell_type": "code",
   "execution_count": 11,
   "metadata": {},
   "outputs": [
    {
     "data": {
      "text/html": [
       "<div>\n",
       "<style scoped>\n",
       "    .dataframe tbody tr th:only-of-type {\n",
       "        vertical-align: middle;\n",
       "    }\n",
       "\n",
       "    .dataframe tbody tr th {\n",
       "        vertical-align: top;\n",
       "    }\n",
       "\n",
       "    .dataframe thead th {\n",
       "        text-align: right;\n",
       "    }\n",
       "</style>\n",
       "<table border=\"1\" class=\"dataframe\">\n",
       "  <thead>\n",
       "    <tr style=\"text-align: right;\">\n",
       "      <th></th>\n",
       "      <th>funder</th>\n",
       "      <th>gps_height</th>\n",
       "      <th>installer</th>\n",
       "      <th>num_private</th>\n",
       "      <th>region</th>\n",
       "      <th>district_code</th>\n",
       "      <th>lga</th>\n",
       "      <th>ward</th>\n",
       "      <th>public_meeting</th>\n",
       "      <th>scheme_management</th>\n",
       "      <th>permit</th>\n",
       "      <th>construction_year</th>\n",
       "      <th>extraction_type</th>\n",
       "      <th>management</th>\n",
       "      <th>management_group</th>\n",
       "      <th>water_quality</th>\n",
       "      <th>quantity</th>\n",
       "      <th>source</th>\n",
       "      <th>waterpoint_type</th>\n",
       "    </tr>\n",
       "  </thead>\n",
       "  <tbody>\n",
       "    <tr>\n",
       "      <th>40145</th>\n",
       "      <td>0.843357</td>\n",
       "      <td>1417</td>\n",
       "      <td>0.410853</td>\n",
       "      <td>0</td>\n",
       "      <td>0.383308</td>\n",
       "      <td>0.608347</td>\n",
       "      <td>0.671875</td>\n",
       "      <td>0.421053</td>\n",
       "      <td>True</td>\n",
       "      <td>0.847104</td>\n",
       "      <td>True</td>\n",
       "      <td>1984.0</td>\n",
       "      <td>0.686279</td>\n",
       "      <td>0.866608</td>\n",
       "      <td>0.775795</td>\n",
       "      <td>0.750489</td>\n",
       "      <td>0.536061</td>\n",
       "      <td>0.707641</td>\n",
       "      <td>0.649172</td>\n",
       "    </tr>\n",
       "    <tr>\n",
       "      <th>29867</th>\n",
       "      <td>1.295455</td>\n",
       "      <td>522</td>\n",
       "      <td>0.820000</td>\n",
       "      <td>0</td>\n",
       "      <td>0.758532</td>\n",
       "      <td>0.822565</td>\n",
       "      <td>0.763636</td>\n",
       "      <td>0.857143</td>\n",
       "      <td>True</td>\n",
       "      <td>0.971545</td>\n",
       "      <td>True</td>\n",
       "      <td>1975.0</td>\n",
       "      <td>0.686143</td>\n",
       "      <td>1.257447</td>\n",
       "      <td>0.760430</td>\n",
       "      <td>0.750386</td>\n",
       "      <td>1.500000</td>\n",
       "      <td>0.707287</td>\n",
       "      <td>0.649041</td>\n",
       "    </tr>\n",
       "    <tr>\n",
       "      <th>40505</th>\n",
       "      <td>0.151515</td>\n",
       "      <td>2134</td>\n",
       "      <td>0.253521</td>\n",
       "      <td>0</td>\n",
       "      <td>0.383308</td>\n",
       "      <td>0.652115</td>\n",
       "      <td>0.346740</td>\n",
       "      <td>0.124402</td>\n",
       "      <td>True</td>\n",
       "      <td>0.847104</td>\n",
       "      <td>False</td>\n",
       "      <td>2004.0</td>\n",
       "      <td>0.686279</td>\n",
       "      <td>0.866608</td>\n",
       "      <td>0.775795</td>\n",
       "      <td>0.750489</td>\n",
       "      <td>0.536061</td>\n",
       "      <td>0.676045</td>\n",
       "      <td>0.649172</td>\n",
       "    </tr>\n",
       "    <tr>\n",
       "      <th>16909</th>\n",
       "      <td>1.059952</td>\n",
       "      <td>1373</td>\n",
       "      <td>1.571429</td>\n",
       "      <td>0</td>\n",
       "      <td>0.712500</td>\n",
       "      <td>0.720642</td>\n",
       "      <td>1.028169</td>\n",
       "      <td>2.000000</td>\n",
       "      <td>True</td>\n",
       "      <td>0.846957</td>\n",
       "      <td>False</td>\n",
       "      <td>1982.0</td>\n",
       "      <td>0.686143</td>\n",
       "      <td>0.866472</td>\n",
       "      <td>0.775688</td>\n",
       "      <td>0.750386</td>\n",
       "      <td>0.884250</td>\n",
       "      <td>0.707287</td>\n",
       "      <td>1.599119</td>\n",
       "    </tr>\n",
       "    <tr>\n",
       "      <th>4560</th>\n",
       "      <td>0.841958</td>\n",
       "      <td>0</td>\n",
       "      <td>1.493304</td>\n",
       "      <td>0</td>\n",
       "      <td>1.205793</td>\n",
       "      <td>0.881448</td>\n",
       "      <td>1.213622</td>\n",
       "      <td>1.750000</td>\n",
       "      <td>True</td>\n",
       "      <td>0.846957</td>\n",
       "      <td>True</td>\n",
       "      <td>2000.0</td>\n",
       "      <td>0.686143</td>\n",
       "      <td>0.866472</td>\n",
       "      <td>0.775688</td>\n",
       "      <td>0.750386</td>\n",
       "      <td>1.958974</td>\n",
       "      <td>0.675843</td>\n",
       "      <td>0.649041</td>\n",
       "    </tr>\n",
       "    <tr>\n",
       "      <th>...</th>\n",
       "      <td>...</td>\n",
       "      <td>...</td>\n",
       "      <td>...</td>\n",
       "      <td>...</td>\n",
       "      <td>...</td>\n",
       "      <td>...</td>\n",
       "      <td>...</td>\n",
       "      <td>...</td>\n",
       "      <td>...</td>\n",
       "      <td>...</td>\n",
       "      <td>...</td>\n",
       "      <td>...</td>\n",
       "      <td>...</td>\n",
       "      <td>...</td>\n",
       "      <td>...</td>\n",
       "      <td>...</td>\n",
       "      <td>...</td>\n",
       "      <td>...</td>\n",
       "      <td>...</td>\n",
       "    </tr>\n",
       "    <tr>\n",
       "      <th>32878</th>\n",
       "      <td>0.091954</td>\n",
       "      <td>277</td>\n",
       "      <td>0.220183</td>\n",
       "      <td>0</td>\n",
       "      <td>0.583431</td>\n",
       "      <td>0.823047</td>\n",
       "      <td>0.461140</td>\n",
       "      <td>0.000000</td>\n",
       "      <td>True</td>\n",
       "      <td>0.507647</td>\n",
       "      <td>True</td>\n",
       "      <td>2008.0</td>\n",
       "      <td>0.815578</td>\n",
       "      <td>0.520557</td>\n",
       "      <td>0.775795</td>\n",
       "      <td>0.750489</td>\n",
       "      <td>0.536061</td>\n",
       "      <td>0.707641</td>\n",
       "      <td>0.649172</td>\n",
       "    </tr>\n",
       "    <tr>\n",
       "      <th>46019</th>\n",
       "      <td>1.057047</td>\n",
       "      <td>0</td>\n",
       "      <td>0.711715</td>\n",
       "      <td>0</td>\n",
       "      <td>1.027384</td>\n",
       "      <td>0.822806</td>\n",
       "      <td>0.975610</td>\n",
       "      <td>1.054054</td>\n",
       "      <td>True</td>\n",
       "      <td>0.847030</td>\n",
       "      <td>False</td>\n",
       "      <td>2000.0</td>\n",
       "      <td>0.686211</td>\n",
       "      <td>0.866540</td>\n",
       "      <td>0.775741</td>\n",
       "      <td>0.750438</td>\n",
       "      <td>0.535982</td>\n",
       "      <td>0.675944</td>\n",
       "      <td>0.649107</td>\n",
       "    </tr>\n",
       "    <tr>\n",
       "      <th>37785</th>\n",
       "      <td>1.172065</td>\n",
       "      <td>1088</td>\n",
       "      <td>0.711715</td>\n",
       "      <td>0</td>\n",
       "      <td>0.835720</td>\n",
       "      <td>0.881733</td>\n",
       "      <td>0.896887</td>\n",
       "      <td>0.944444</td>\n",
       "      <td>True</td>\n",
       "      <td>0.847030</td>\n",
       "      <td>True</td>\n",
       "      <td>1994.0</td>\n",
       "      <td>0.686211</td>\n",
       "      <td>0.866540</td>\n",
       "      <td>0.775741</td>\n",
       "      <td>0.750438</td>\n",
       "      <td>0.535982</td>\n",
       "      <td>0.707464</td>\n",
       "      <td>1.150393</td>\n",
       "    </tr>\n",
       "    <tr>\n",
       "      <th>33581</th>\n",
       "      <td>1.060392</td>\n",
       "      <td>961</td>\n",
       "      <td>0.711872</td>\n",
       "      <td>0</td>\n",
       "      <td>0.580247</td>\n",
       "      <td>0.721205</td>\n",
       "      <td>0.576212</td>\n",
       "      <td>0.618421</td>\n",
       "      <td>True</td>\n",
       "      <td>0.847104</td>\n",
       "      <td>True</td>\n",
       "      <td>1980.0</td>\n",
       "      <td>0.686279</td>\n",
       "      <td>0.866608</td>\n",
       "      <td>0.775795</td>\n",
       "      <td>0.750489</td>\n",
       "      <td>0.884630</td>\n",
       "      <td>0.676045</td>\n",
       "      <td>0.649172</td>\n",
       "    </tr>\n",
       "    <tr>\n",
       "      <th>42563</th>\n",
       "      <td>0.408163</td>\n",
       "      <td>1927</td>\n",
       "      <td>0.377358</td>\n",
       "      <td>0</td>\n",
       "      <td>0.383308</td>\n",
       "      <td>0.608347</td>\n",
       "      <td>0.671875</td>\n",
       "      <td>0.535714</td>\n",
       "      <td>True</td>\n",
       "      <td>0.847104</td>\n",
       "      <td>True</td>\n",
       "      <td>2003.0</td>\n",
       "      <td>0.686279</td>\n",
       "      <td>0.866608</td>\n",
       "      <td>0.775795</td>\n",
       "      <td>0.750489</td>\n",
       "      <td>0.536061</td>\n",
       "      <td>0.707641</td>\n",
       "      <td>0.649172</td>\n",
       "    </tr>\n",
       "  </tbody>\n",
       "</table>\n",
       "<p>20859 rows × 19 columns</p>\n",
       "</div>"
      ],
      "text/plain": [
       "         funder  gps_height  installer  num_private    region  district_code  \\\n",
       "40145  0.843357        1417   0.410853            0  0.383308       0.608347   \n",
       "29867  1.295455         522   0.820000            0  0.758532       0.822565   \n",
       "40505  0.151515        2134   0.253521            0  0.383308       0.652115   \n",
       "16909  1.059952        1373   1.571429            0  0.712500       0.720642   \n",
       "4560   0.841958           0   1.493304            0  1.205793       0.881448   \n",
       "...         ...         ...        ...          ...       ...            ...   \n",
       "32878  0.091954         277   0.220183            0  0.583431       0.823047   \n",
       "46019  1.057047           0   0.711715            0  1.027384       0.822806   \n",
       "37785  1.172065        1088   0.711715            0  0.835720       0.881733   \n",
       "33581  1.060392         961   0.711872            0  0.580247       0.721205   \n",
       "42563  0.408163        1927   0.377358            0  0.383308       0.608347   \n",
       "\n",
       "            lga      ward public_meeting  scheme_management permit  \\\n",
       "40145  0.671875  0.421053           True           0.847104   True   \n",
       "29867  0.763636  0.857143           True           0.971545   True   \n",
       "40505  0.346740  0.124402           True           0.847104  False   \n",
       "16909  1.028169  2.000000           True           0.846957  False   \n",
       "4560   1.213622  1.750000           True           0.846957   True   \n",
       "...         ...       ...            ...                ...    ...   \n",
       "32878  0.461140  0.000000           True           0.507647   True   \n",
       "46019  0.975610  1.054054           True           0.847030  False   \n",
       "37785  0.896887  0.944444           True           0.847030   True   \n",
       "33581  0.576212  0.618421           True           0.847104   True   \n",
       "42563  0.671875  0.535714           True           0.847104   True   \n",
       "\n",
       "       construction_year  extraction_type  management  management_group  \\\n",
       "40145             1984.0         0.686279    0.866608          0.775795   \n",
       "29867             1975.0         0.686143    1.257447          0.760430   \n",
       "40505             2004.0         0.686279    0.866608          0.775795   \n",
       "16909             1982.0         0.686143    0.866472          0.775688   \n",
       "4560              2000.0         0.686143    0.866472          0.775688   \n",
       "...                  ...              ...         ...               ...   \n",
       "32878             2008.0         0.815578    0.520557          0.775795   \n",
       "46019             2000.0         0.686211    0.866540          0.775741   \n",
       "37785             1994.0         0.686211    0.866540          0.775741   \n",
       "33581             1980.0         0.686279    0.866608          0.775795   \n",
       "42563             2003.0         0.686279    0.866608          0.775795   \n",
       "\n",
       "       water_quality  quantity    source  waterpoint_type  \n",
       "40145       0.750489  0.536061  0.707641         0.649172  \n",
       "29867       0.750386  1.500000  0.707287         0.649041  \n",
       "40505       0.750489  0.536061  0.676045         0.649172  \n",
       "16909       0.750386  0.884250  0.707287         1.599119  \n",
       "4560        0.750386  1.958974  0.675843         0.649041  \n",
       "...              ...       ...       ...              ...  \n",
       "32878       0.750489  0.536061  0.707641         0.649172  \n",
       "46019       0.750438  0.535982  0.675944         0.649107  \n",
       "37785       0.750438  0.535982  0.707464         1.150393  \n",
       "33581       0.750489  0.884630  0.676045         0.649172  \n",
       "42563       0.750489  0.536061  0.707641         0.649172  \n",
       "\n",
       "[20859 rows x 19 columns]"
      ]
     },
     "execution_count": 11,
     "metadata": {},
     "output_type": "execute_result"
    }
   ],
   "source": [
    "X_train_enc"
   ]
  },
  {
   "cell_type": "code",
   "execution_count": 15,
   "metadata": {},
   "outputs": [
    {
     "data": {
      "text/plain": [
       "RandomForestClassifier(max_features=3, min_samples_leaf=2, n_estimators=200)"
      ]
     },
     "execution_count": 15,
     "metadata": {},
     "output_type": "execute_result"
    }
   ],
   "source": [
    "rf_clf = RandomForestClassifier(n_estimators=200, max_features=3, min_samples_leaf=2)\n",
    "rf_clf.fit(X_train_enc, y_train)"
   ]
  },
  {
   "cell_type": "code",
   "execution_count": 16,
   "metadata": {},
   "outputs": [],
   "source": [
    "train_preds = rf_clf.predict(X_train_enc)\n",
    "test_preds = rf_clf.predict(X_test_enc)"
   ]
  },
  {
   "cell_type": "code",
   "execution_count": 17,
   "metadata": {},
   "outputs": [
    {
     "name": "stdout",
     "output_type": "stream",
     "text": [
      "                         precision    recall  f1-score   support\n",
      "\n",
      "             functional       1.00      1.00      1.00     11997\n",
      "functional needs repair       1.00      1.00      1.00      1550\n",
      "         non functional       1.00      1.00      1.00      7312\n",
      "\n",
      "               accuracy                           1.00     20859\n",
      "              macro avg       1.00      1.00      1.00     20859\n",
      "           weighted avg       1.00      1.00      1.00     20859\n",
      "\n"
     ]
    }
   ],
   "source": [
    "print(classification_report(y_train, train_preds))"
   ]
  },
  {
   "cell_type": "code",
   "execution_count": 18,
   "metadata": {},
   "outputs": [
    {
     "name": "stdout",
     "output_type": "stream",
     "text": [
      "                         precision    recall  f1-score   support\n",
      "\n",
      "             functional       0.50      0.00      0.00      4059\n",
      "functional needs repair       0.07      1.00      0.13       463\n",
      "         non functional       0.80      0.01      0.02      2432\n",
      "\n",
      "               accuracy                           0.07      6954\n",
      "              macro avg       0.46      0.34      0.05      6954\n",
      "           weighted avg       0.58      0.07      0.02      6954\n",
      "\n"
     ]
    }
   ],
   "source": [
    "print(classification_report(y_test, test_preds))"
   ]
  },
  {
   "cell_type": "code",
   "execution_count": null,
   "metadata": {},
   "outputs": [],
   "source": []
  },
  {
   "cell_type": "code",
   "execution_count": null,
   "metadata": {},
   "outputs": [],
   "source": []
  },
  {
   "cell_type": "code",
   "execution_count": 19,
   "metadata": {},
   "outputs": [],
   "source": [
    "svm_clf = SVC(kernel='poly')\n",
    "svm_clf.fit(X_train_enc, y_train)\n",
    "\n",
    "train_preds = svm_clf.predict(X_train_enc)\n",
    "test_preds = svm_clf.predict(X_test_enc)"
   ]
  },
  {
   "cell_type": "code",
   "execution_count": 20,
   "metadata": {},
   "outputs": [
    {
     "name": "stderr",
     "output_type": "stream",
     "text": [
      "/Applications/anaconda3/envs/learn-env/lib/python3.8/site-packages/sklearn/metrics/_classification.py:1221: UndefinedMetricWarning: Precision and F-score are ill-defined and being set to 0.0 in labels with no predicted samples. Use `zero_division` parameter to control this behavior.\n",
      "  _warn_prf(average, modifier, msg_start, len(result))\n"
     ]
    },
    {
     "name": "stdout",
     "output_type": "stream",
     "text": [
      "                         precision    recall  f1-score   support\n",
      "\n",
      "             functional       0.58      1.00      0.73     11997\n",
      "functional needs repair       0.00      0.00      0.00      1550\n",
      "         non functional       0.00      0.00      0.00      7312\n",
      "\n",
      "               accuracy                           0.58     20859\n",
      "              macro avg       0.19      0.33      0.24     20859\n",
      "           weighted avg       0.33      0.58      0.42     20859\n",
      "\n"
     ]
    }
   ],
   "source": [
    "print(classification_report(y_train, train_preds))"
   ]
  },
  {
   "cell_type": "code",
   "execution_count": 21,
   "metadata": {},
   "outputs": [
    {
     "name": "stdout",
     "output_type": "stream",
     "text": [
      "                         precision    recall  f1-score   support\n",
      "\n",
      "             functional       0.58      1.00      0.74      4059\n",
      "functional needs repair       0.00      0.00      0.00       463\n",
      "         non functional       0.00      0.00      0.00      2432\n",
      "\n",
      "               accuracy                           0.58      6954\n",
      "              macro avg       0.19      0.33      0.25      6954\n",
      "           weighted avg       0.34      0.58      0.43      6954\n",
      "\n"
     ]
    }
   ],
   "source": [
    "print(classification_report(y_test, test_preds))"
   ]
  },
  {
   "cell_type": "code",
   "execution_count": null,
   "metadata": {},
   "outputs": [],
   "source": []
  }
 ],
 "metadata": {
  "kernelspec": {
   "display_name": "learn-env",
   "language": "python",
   "name": "learn-env"
  },
  "language_info": {
   "codemirror_mode": {
    "name": "ipython",
    "version": 3
   },
   "file_extension": ".py",
   "mimetype": "text/x-python",
   "name": "python",
   "nbconvert_exporter": "python",
   "pygments_lexer": "ipython3",
   "version": "3.8.8"
  }
 },
 "nbformat": 4,
 "nbformat_minor": 4
}
